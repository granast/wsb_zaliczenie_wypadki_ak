{
 "cells": [
  {
   "cell_type": "markdown",
   "metadata": {},
   "source": [
    "### I. Temat **\"Analiza związku między miejscem zamieszkania kierowcy, a prawdopodobieństwem udziału w wypadku drogowym.\"**\n",
    "\n",
    "1.1 **Cel pracy:**  \n",
    "  - Zbadanie, czy istnieje związek między miejscem zamieszkania kierowcy (wiejskim lub miejskim), a prawdopodobieństwem jego udziału w wypadku drogowym oraz identyfikacja kluczowych czynników wpływających na przewidywanie lokalizacji wypadku na terenie wiejskim, z wykorzystaniem modeli uczenia maszynowego.\n",
    "  \n",
    "1.2 **Pytania badawcze:**  \n",
    "  - Czy miejsce zamieszkania kierowcy (miejskie vs. niemiejskie) wpływa na prawdopodobieństwo udziału w wypadku drogowym?\n",
    "  - Jakie z wybranych cech kontekstowych (np. typ drogi, warunki oświetleniowe, kontrola skrzyżowań) mają największy wpływ na prawdopodobieństwo wystąpienia wypadku na terenie wiejskim?\n",
    "  - Czy modele uczenia maszynowego (XGBoost, RandomForest) mogą skutecznie przewidzieć lokalizację wypadku na podstawie miejsca zamieszkania kierowcy i cech kontekstowych?\n",
    "\n",
    "1.3 **Hipoteza badawcza:**  \n",
    "  - Kierowcy z obszarów miejskich są bardziej narażeni na udział w wypadkach drogowych na terenach wiejskich niż kierowcy z obszarów wiejskich.\n",
    "  - Specyficzne cechy, takie jak drogi jednopasmowe, brak oświetlenia ulicznego oraz niekontrolowane skrzyżowania, znacząco zwiększają ryzyko wypadku na terenie wiejskim.\n",
    "  - Modele uczenia maszynowego (XGBoost, RandomForest) nie osiągają wysokiej skuteczności w przewidywaniu lokalizacji wypadku (wiejskiej vs. miejskiej) na podstawie miejsca zamieszkania kierowcy i cech kontekstowych."
   ]
  },
  {
   "cell_type": "markdown",
   "metadata": {},
   "source": [
    "### II. Dane i metodyka \n",
    "1. **Źródła danych**:  \n",
    "   - Dane pochodzą z oficjalnych brytyjskich baz danych (Department for Transport - data.gov.uk) dotyczących wypadków drogowych z lat 2021-2023 na terenie UK.\n",
    "   - Tabele (`casualties`, `vehicles`, `accidents`) zawierające dane m.in. o ofiarach (wiek, miejsce zamieszkania), informacje o pojazdach i kierowcach (np. obszar zamieszkania, odległość od miejsca wypadku) i kontekst wypadków (warunki pogodowe, typ drogi) zostały połączone w tabelę `data` po kluczu `accident_index`.\n",
    "   - Statystyki dotyczą wyłącznie wypadków z obrażeniami ciała na drogach publicznych, które są zgłaszane policji, a następnie rejestrowane przy użyciu formularza zgłaszania kolizji `STATS19`.\n",
    "   - **Przewodnik**: po statystykach dotyczących wypadków drogowych: https://www.gov.uk/guidance/road-accident-and-safety-statistics-guidance\n",
    "   - **Zestawy danych** do pobrania: https://www.data.gov.uk/dataset/cb7ae6f0-4be6-4935-9277-47e5ce24a11f/road-accidents-safety-data\n",
    "\n",
    "1. **Opis użytych zmiennych**: \n",
    "   \n",
    "   W analizie wykorzystano następujące zmienne, które opisują okoliczności wypadków drogowych, charakterystyki kierowców, pojazdów oraz poszkodowanych:\n",
    "\n",
    "   - **`road_type`** – Rodzaj drogi, na której doszło do wypadku. Kategorie obejmują: rondo (1), ulica jednokierunkowa (2), droga dwujezdniowa (3), droga jednojezdniowa (6), droga dojazdowa (7), nieznana (9), ulica jednokierunkowa/droga dojazdowa (12) lub brak danych (-1).\n",
    "\n",
    "   - **`light_conditions`** – Warunki oświetlenia w czasie wypadku. Kategorie: światło dzienne (1), ciemność z działającym oświetleniem (4), ciemność z niedziałającym oświetleniem (5), ciemność bez oświetlenia (6), ciemność z nieznanym stanem oświetlenia (7) lub brak danych (-1).\n",
    "\n",
    "   - **`junction_detail`** – Szczegóły dotyczące skrzyżowania w miejscu wypadku. Obejmuje: brak skrzyżowania w promieniu 20 metrów (0), rondo (1), mini-rondo (2), skrzyżowanie typu T lub rozwidlenie (3), droga dojazdowa (5), skrzyżowanie czteroramienne (6), skrzyżowanie z więcej niż 4 ramionami (7), prywatny wjazd (8), inne skrzyżowanie (9), nieznane (99) lub brak danych (-1).\n",
    "\n",
    "   - **`junction_control`** – Rodzaj kontroli ruchu na skrzyżowaniu. Kategorie: brak skrzyżowania w promieniu 20 metrów (0), osoba upoważniona (1), sygnalizacja świetlna (2), znak stopu (3), ustąp pierwszeństwa lub brak kontroli (4), nieznane (9) lub brak danych (-1).\n",
    "\n",
    "   - **`driver_home_area_type`** – Typ obszaru zamieszkania kierowcy. Obejmuje: obszar miejski (1), małe miasto (2), obszar wiejski (3) lub brak danych (-1).\n",
    "\n",
    "   - **`accident_year`** – Rok, w którym doszło do wypadku.\n",
    "\n",
    "   - **`age_of_casualty`** – Wiek osoby poszkodowanej w wypadku. Wartość -1 oznacza brak danych.\n",
    "\n",
    "   - **`driver_distance_banding`** – Odległość miejsca wypadku od miejsca zamieszkania kierowcy. Kategorie: do 5 km (1), 5,001–10 km (2), 10,001–20 km (3), 20,001–100 km (4), powyżej 100 km (5) lub brak danych (-1).\n",
    "\n",
    "   - **`weather_conditions`** – Warunki pogodowe w czasie wypadku. Kategorie: dobra pogoda bez silnego wiatru (1), deszcz bez silnego wiatru (2), śnieg bez silnego wiatru (3), dobra pogoda z silnym wiatrem (4), deszcz z silnym wiatrem (5), śnieg z silnym wiatrem (6), mgła (7), inne (8), nieznane (9) lub brak danych (-1).\n",
    "\n",
    "   - **`urban_or_rural_area`** – Typ obszaru, w którym doszło do wypadku: miejski (1), wiejski (2), nieprzypisany (3) lub brak danych (-1).\n",
    "\n",
    "   - **`casualty_type`** – Typ poszkodowanego w wypadku, np.: pieszy (0), rowerzysta (1), motocyklista (2–5, 23, 97, 103–106), pasażer \n",
    "   taksówki (8), pasażer samochodu (9), pasażer busa (10–11), jeździec konny (16), inne typy pojazdów (17–21, 90, 98–99, 108–110, 113) lub brak danych (-1).\n",
    "\n",
    "   - **`speed_limit`** – Ograniczenie prędkości na drodze w miejscu wypadku. Wartości w milach na godzinę, np. 30, 60; 99 oznacza nieznane (zgłoszone przez uczestnika), a -1 brak danych.\n",
    "\n",
    "   - **`driver_imd_decile`** – Poziom deprywacji społeczno-ekonomicznej kierowcy według indeksu IMD (ang. Index of Multiple Deprivation). Skala od 1 (najbardziej deprywowany 10%) do 10 (najmniej deprywowany 10%) lub brak danych (-1).\n",
    "\n",
    "   - **`age_of_vehicle`** – Wiek pojazdu w latach w momencie wypadku. Wartość -1 oznacza brak danych.\n",
    "\n",
    "   - **`age_of_driver`** – Wiek kierowcy w momencie wypadku. Wartość -1 oznacza brak danych.\n",
    "\n",
    "   - **`number_of_casualties`** – Liczba osób poszkodowanych w wyniku wypadku.\n",
    "\n",
    "   - **`skidding_and_overturning`** – Informacja o poślizgu lub przewróceniu pojazdu. Kategorie: brak (0), poślizg (1), poślizg i przewrócenie (2), wyłamanie (3), wyłamanie i przewrócenie (4), przewrócenie (5), nieznane (9) lub brak danych (-1).\n",
    "\n",
    "3. **Opis Przygotowanie danych:**\n",
    "\n",
    "   -  **Oczyszczono dane:** Zastąpiono `-1` i `99` na `NaN`, a następnie usunięto wiersze z brakami w tych kolumnach.\n",
    "   -  **Przekształcono czas:** Z kolumny `time` utworzono `hour_of_day`.\n",
    "   -  **Przygotowanie zmiennej docelowej:** dla `driver_home_area_type` zsumowano wartości 2 i 3 (small town oraz unrual) w jedną etykietę nr 2 dla przejrzystości danych\n",
    "   -  **Tworzenie zmiennych binarnych:** \n",
    "         - is_urban_driver: Kierowca pochodzi z obszaru miejskiego (`driver_home_area_type` = 1).\n",
    "         - is_rural_accident: Wypadek miał miejsce na terenie wiejskim (`urban_or_rural_area` = 2).\n",
    "   -  **Znormalizowano prędkość:** `speed_limit` przekształcono w `speed_limit_normalized`.\n",
    "   -  **Zbindowano wiek:** `age_of_casualty` i `age_of_driver` przekształcono w `age_of_casualty_binned` i `age_of_driver_binned`.\n",
    "         - Zarówno age_of_casualty jak i age_of_driver podzielono na 5 przedziałów:\n",
    "         - ≤17 lat, 18-25 lat, 26-40 lat, 41-60 lat, >60 lat.\n",
    "   -  **Stworzono nowe cechy:**\n",
    "      * `urban_driver_speed` jako iloczyn `is_urban_driver` i `speed_limit_normalized`.\n",
    "      * `is_rush_hour` na podstawie `hour_of_day`.\n",
    "      * `distance_speed_interaction` jako iloczyn `driver_distance_banding` i `urban_driver_speed`.\n",
    "   -  **Wybrano cechy:** Ustalono listę `selected_features`, która teraz zawiera również `casualty_type`.\n",
    "   -  **Zakodowano kategorie:** Zmienne kategorialne z `selected_features` (w tym nowa kolumna `casualty_type` oraz `road_type`, `light_conditions`, `junction_detail`, `junction_control`, `age_of_casualty_binned`, `driver_distance_banding`, `weather_conditions`, `age_of_driver_binned`, `skidding_and_overturning`) zakodowano zero-jedynkowo.\n",
    "   -  **Stworzono dodatkowe cechy po kodowaniu:**\n",
    "      * `important_driver_distance` na podstawie `driver_distance_banding_4.0` i `driver_distance_banding_3.0`.\n",
    "      * `urban_driver_long_distance` jako iloczyn `is_urban_driver` i `important_driver_distance`.\n",
    "      * `urban_driver_no_junction_control` jako iloczyn `is_urban_driver` i `junction_control_4.0` (jeśli istnieje).\n",
    "   -  **Podział danych: Dane podzielono na zbiory:**\n",
    "      * Treningowy + walidacyjny (80%) i testowy (20%) z zachowaniem stratyfikacji..\n",
    "      * Następnie zbiór treningowy + walidacyjny podzielono na treningowy (60% całości) i walidacyjny (20% całości), również ze stratyfikacją.\n",
    "   -  **Balansowanie danych:**\n",
    "      * Zastosowano SMOTE na zbiorze treningowym, aby zrównoważyć klasy zmiennej docelowej `is_rural_accident`.\n",
    "   -  **Rozmiary zbiorów danych po przetworzeniu:**\n",
    "      * Zbiór treningowy (po SMOTE): 228388 rekordów / Zbiór walidacyjny: 54611 rekordów / Zbiór testowy: 54611 rekordów.\n",
    "\n",
    "4. **Format kodu oraz wersje bibliotek:**\n",
    "\n",
    "      Kod został wykonany w Pythonie z użyciem następujących bibliotek i ich wersji:\n",
    "\n",
    "      - **NumPy**: 1.26.4  \n",
    "      - **Pandas**: 2.2.3  \n",
    "      - **Matplotlib**: 3.9.2  \n",
    "      - **Plotly**: 5.24.1  \n",
    "      - **Scikit-learn**: 1.5.1  \n",
    "      - **Tabulate**: 0.9.0  \n",
    "      - **Imbalanced-learn (SMOTE)**: 0.12.3  \n",
    "      - **XGBoost**: 2.1.4  \n",
    "      - **SciPy**: 1.13.1\n",
    "   \n",
    "   Celem było przygotowanie danych (X) i zmiennej docelowej (y, czyli `is_rural_accident`) do modelowania poprzez oczyszczenie, transformację i stworzenie nowych cech, uwzględniając teraz również typ uczestnika wypadku (`casualty_type`)."
   ]
  },
  {
   "cell_type": "code",
   "execution_count": 6,
   "metadata": {
    "jupyter": {
     "is_executing": true
    }
   },
   "outputs": [],
   "source": [
    "# Standardowe biblioteki\n",
    "import numpy as np\n",
    "import pandas as pd\n",
    "\n",
    "# Biblioteki do wizualizacji danych\n",
    "import matplotlib.pyplot as plt\n",
    "import plotly.express as px\n",
    "from tabulate import tabulate\n",
    "\n",
    "# Biblioteki do modelowania i uczenia maszynowego (scikit-learn)\n",
    "from sklearn.metrics import classification_report, roc_curve, roc_auc_score\n",
    "from sklearn.model_selection import cross_val_score, train_test_split, learning_curve\n",
    "from sklearn.preprocessing import StandardScaler\n",
    "\n",
    "# Biblioteki do zbalansowania danych\n",
    "from imblearn.over_sampling import SMOTE\n",
    "\n",
    "# Biblioteki do uczenia maszynowego (inne)\n",
    "from scipy.stats import chi2_contingency\n",
    "from xgboost import XGBClassifier\n",
    "\n",
    "\n",
    "# # Wczytanie danych / # Linki do plików CSV\n",
    "casualties_url = 'https://data.dft.gov.uk/road-accidents-safety-data/dft-road-casualty-statistics-casualty-last-5-years.csv'\n",
    "vehicles_url = 'https://data.dft.gov.uk/road-accidents-safety-data/dft-road-casualty-statistics-vehicle-last-5-years.csv'\n",
    "accidents_url = 'https://data.dft.gov.uk/road-accidents-safety-data/dft-road-casualty-statistics-collision-last-5-years.csv'\n",
    "\n",
    "# Wczytanie danych bezpośrednio z linków\n",
    "casualties = pd.read_csv(casualties_url, low_memory=False)\n",
    "vehicles = pd.read_csv(vehicles_url, low_memory=False)\n",
    "accidents = pd.read_csv(accidents_url, low_memory=False)\n",
    "\n",
    "# Połączenie tabel\n",
    "data = accidents.merge(casualties, on='accident_index', how='left').merge(vehicles, on='accident_index', how='left')\n",
    "# Filtracja danych dla lat 2021-2023\n",
    "data = data[data['accident_year'].isin([2021, 2022, 2023])]"
   ]
  },
  {
   "cell_type": "code",
   "execution_count": 7,
   "metadata": {
    "jupyter": {
     "is_executing": true
    }
   },
   "outputs": [
    {
     "name": "stdout",
     "output_type": "stream",
     "text": [
      "\n",
      "Rozmiary zbiorów po SMOTE:\n",
      "Zbiór treningowy: 228388 rekordów\n",
      "Zbiór walidacyjny: 54611 rekordów\n",
      "Zbiór testowy: 54611 rekordów\n"
     ]
    }
   ],
   "source": [
    "# Przygotowanie danych\n",
    "columns_to_check_NaN = [\n",
    "    'road_type', 'light_conditions', 'junction_detail', 'junction_control', 'driver_home_area_type', 'accident_year',\n",
    "    'age_of_casualty', 'driver_distance_banding', 'weather_conditions', 'urban_or_rural_area', 'casualty_type',\n",
    "    'speed_limit', 'driver_imd_decile', 'age_of_vehicle', 'age_of_driver', 'number_of_casualties', 'skidding_and_overturning'\n",
    "]\n",
    "data[columns_to_check_NaN] = data[columns_to_check_NaN].replace([-1, 99], np.nan)\n",
    "data.dropna(subset=columns_to_check_NaN, inplace=True)\n",
    "\n",
    "# Wyodrębnienie godziny z czasu\n",
    "data['hour_of_day'] = pd.to_datetime(data['time'], format='%H:%M').dt.hour\n",
    "\n",
    "# Definicja zmiennych\n",
    "# Kierowcy z obszarów miejskich: driver_home_area_type = 1 (miejskie)\n",
    "data['driver_home_area_type'] = data['driver_home_area_type'].replace({3: 2})\n",
    "data['is_urban_driver'] = (data['driver_home_area_type'] == 1).astype(int)\n",
    "\n",
    "# Wypadki na terenach wiejskich: urban_or_rural_area = 2 (wiejskie)\n",
    "data['is_rural_accident'] = (data['urban_or_rural_area'] == 2).astype(int)\n",
    "\n",
    "# Normalizacja speed_limit\n",
    "scaler = StandardScaler()\n",
    "data['speed_limit_normalized'] = scaler.fit_transform(data[['speed_limit']])\n",
    "\n",
    "# Binowanie age_of_casualty\n",
    "data['age_of_casualty'] = pd.to_numeric(data['age_of_casualty'], errors='coerce')\n",
    "bins_age_driver = [-float('inf'), 17, 25, 40, 60, float('inf')]\n",
    "labels_age_driver = ['1', '2', '3', '4', '5']\n",
    "data['age_of_casualty_binned'] = pd.cut(data['age_of_casualty'], bins=bins_age_driver, labels=labels_age_driver, right=False)\n",
    "\n",
    "# Binowanie age_of_driver\n",
    "data['age_of_driver'] = pd.to_numeric(data['age_of_driver'], errors='coerce')\n",
    "bins_age_driver = [-float('inf'), 17, 25, 40, 60, float('inf')]\n",
    "labels_age_driver = ['1', '2', '3', '4', '5']\n",
    "data['age_of_driver_binned'] = pd.cut(data['age_of_driver'], bins=bins_age_driver, labels=labels_age_driver, right=False)\n",
    "\n",
    "# Inżyniera Cech / feature engineering\n",
    "data['urban_driver_speed'] = data['is_urban_driver'] * data['speed_limit_normalized']\n",
    "data['is_rush_hour'] = data['hour_of_day'].apply(lambda h: 1 if (7 <= h <= 9) or (15 <= h <= 18) else 0)\n",
    "data['distance_speed_interaction'] = data['driver_distance_banding'].astype(float) * data['urban_driver_speed']\n",
    "\n",
    "# Wybór cech do modelu\n",
    "selected_features = [\n",
    "    'is_urban_driver', 'road_type', 'light_conditions', 'junction_detail', 'junction_control',\n",
    "    'driver_distance_banding', 'weather_conditions', 'is_rush_hour', 'age_of_driver_binned', 'age_of_casualty_binned',\n",
    "    'distance_speed_interaction', 'speed_limit_normalized', 'driver_imd_decile', \n",
    "    'hour_of_day', 'number_of_casualties', 'urban_driver_speed', 'skidding_and_overturning', 'casualty_type'\n",
    "]\n",
    "\n",
    "# Przygotowanie danych: kodowanie kategorialne\n",
    "X = data[selected_features]\n",
    "X = pd.get_dummies(X, columns=['road_type', 'light_conditions', 'junction_detail', 'junction_control',\n",
    "                               'age_of_casualty_binned', 'driver_distance_banding', 'is_rush_hour', \n",
    "                               'weather_conditions', 'age_of_driver_binned', 'skidding_and_overturning', 'casualty_type'\n",
    "                               ], drop_first=True)\n",
    "y = data['is_rural_accident']\n",
    "\n",
    "#Inżynieria cech po dummies\n",
    "X['important_driver_distance'] = (X['driver_distance_banding_4.0'] + X['driver_distance_banding_3.0'] > 0).astype(int)\n",
    "X['urban_driver_long_distance'] = X['is_urban_driver'] * X['important_driver_distance']\n",
    "\n",
    "     # Przykład dla junction_control_4.0 (np. brak kontroli ruchu)\n",
    "if 'junction_control_4.0' in X.columns:\n",
    "    X['urban_driver_no_junction_control'] = X['is_urban_driver'] * X['junction_control_4.0']\n",
    "\n",
    "# Podział na zbiór treningowy + walidacyjny (80%) i testowy (20%)\n",
    "X_temp, X_test, y_temp, y_test = train_test_split(X, y, test_size=0.2, random_state=42, stratify=y)\n",
    "\n",
    "# Podział X_temp na zbiór treningowy (60% z całości) i walidacyjny (20% z całości)\n",
    "X_train, X_val, y_train, y_val = train_test_split(X_temp, y_temp, test_size=0.25, random_state=42, stratify=y_temp)\n",
    "\n",
    "# Oversampling klasy mniejszościowej (SMOTE)\n",
    "smote = SMOTE(random_state=42)\n",
    "X_train, y_train = smote.fit_resample(X_train, y_train)\n",
    "\n",
    "# Sprawdzenie rozmiarów zbiorów\n",
    "print(f\"\\nRozmiary zbiorów po SMOTE:\")\n",
    "print(f\"Zbiór treningowy: {X_train.shape[0]} rekordów\")\n",
    "print(f\"Zbiór walidacyjny: {X_val.shape[0]} rekordów\")\n",
    "print(f\"Zbiór testowy: {X_test.shape[0]} rekordów\")"
   ]
  },
  {
   "cell_type": "code",
   "execution_count": 8,
   "metadata": {},
   "outputs": [
    {
     "name": "stdout",
     "output_type": "stream",
     "text": [
      "==================================================\n",
      "\n",
      "Tabela1: Proporcje kierowców według miejsca zamieszkania:\n",
      "+----+---------------+--------------------+-----------+\n",
      "|    | Pochodzenie   |   Liczba kierowców | Procent   |\n",
      "+====+===============+====================+===========+\n",
      "|  0 | kier. Miejski |             222719 | 81.6%     |\n",
      "+----+---------------+--------------------+-----------+\n",
      "|  1 | kier. Wiejski |              50334 | 18.4%     |\n",
      "+----+---------------+--------------------+-----------+\n",
      "|  2 | Suma          |             273053 | 100.0%    |\n",
      "+----+---------------+--------------------+-----------+\n",
      "\n",
      "\n",
      "==================================================\n",
      "Tabela2: Rozkład kierowców według miejsca zamieszkania w poszczególnych latach:\n",
      "+------+-------+-----------------+---------------------+-----------------+---------------------+--------+\n",
      "|      |   Rok |   kier. Wiejski | % kier. Wiejskich   |   kier. Miejski | % kier. Miejskich   |   Suma |\n",
      "+======+=======+=================+=====================+=================+=====================+========+\n",
      "| 2021 |  2021 |           15908 | 17.8%               |           73686 | 82.2%               |  89594 |\n",
      "+------+-------+-----------------+---------------------+-----------------+---------------------+--------+\n",
      "| 2022 |  2022 |           17419 | 18.7%               |           75877 | 81.3%               |  93296 |\n",
      "+------+-------+-----------------+---------------------+-----------------+---------------------+--------+\n",
      "| 2023 |  2023 |           17007 | 18.9%               |           73156 | 81.1%               |  90163 |\n",
      "+------+-------+-----------------+---------------------+-----------------+---------------------+--------+\n",
      "\n",
      "\n"
     ]
    },
    {
     "data": {
      "image/png": "[encoded data removed]",
      "text/plain": [
       "<Figure size 1400x1000 with 3 Axes>"
      ]
     },
     "metadata": {},
     "output_type": "display_data"
    }
   ],
   "source": [
    "# === Pierwszy zestaw danych i tabela ===\n",
    "# 1. Całkowita liczba wypadków\n",
    "total_accidents = len(data)\n",
    "total_stats = pd.DataFrame({\n",
    "    'Kategoria': ['Wszystkie wypadki'],\n",
    "    'Liczba': [total_accidents],\n",
    "    'Procent': [100.0]\n",
    "})\n",
    "\n",
    "# 2. Proporcje kierowców z obszarów miejskich i niemiejskich\n",
    "driver_origin = data['is_urban_driver'].value_counts().reset_index()\n",
    "driver_origin.columns = ['is_urban_driver', 'Liczba kierowców']\n",
    "driver_origin['Pochodzenie'] = driver_origin['is_urban_driver'].map({0: 'kier. Wiejski', 1: 'kier. Miejski'}) # Zmiana etykiet\n",
    "driver_origin['Procent'] = (driver_origin['Liczba kierowców'] / driver_origin['Liczba kierowców'].sum()) * 100\n",
    "\n",
    "# Przygotowanie danych do tabeli dla proporcji kierowców\n",
    "driver_origin_display = driver_origin[['Pochodzenie', 'Liczba kierowców', 'Procent']].copy()\n",
    "driver_origin_display['Procent'] = driver_origin_display['Procent'].map('{:.1f}%'.format)\n",
    "driver_origin_display.loc[len(driver_origin_display)] = ['Suma', driver_origin['Liczba kierowców'].sum(), '100.0%']\n",
    "\n",
    "# Wyświetlenie pierwszej tabeli\n",
    "print(\"=\"*50)\n",
    "print(\"\\nTabela1: Proporcje kierowców według miejsca zamieszkania:\")\n",
    "print(tabulate(driver_origin_display, headers=\"keys\", tablefmt=\"grid\"))\n",
    "print(\"\\n\")\n",
    "\n",
    "# === Drugi zestaw danych i tabela ===\n",
    "# Przygotowanie danych dla rozkładu kierowców według lat\n",
    "driver_stats = data.groupby(['accident_year', 'is_urban_driver']).size().unstack()\n",
    "driver_stats.columns = ['kier. Wiejski', 'kier. Miejski'] # Zmiana etykiet kolumn\n",
    "driver_stats['Rok'] = driver_stats.index\n",
    "\n",
    "# Obliczamy sumę i procenty\n",
    "driver_stats['Suma'] = driver_stats['kier. Wiejski'] + driver_stats['kier. Miejski']\n",
    "driver_stats['% kier. Wiejskich'] = (driver_stats['kier. Wiejski'] / driver_stats['Suma']) * 100 # Zmiana etykiety\n",
    "driver_stats['% kier. Miejskich'] = (driver_stats['kier. Miejski'] / driver_stats['Suma']) * 100 # Zmiana etykiety\n",
    "\n",
    "# Przygotowanie tabeli do wyświetlenia - usuwamy 'accident_year', zostawiamy tylko 'Rok'\n",
    "driver_stats_display = driver_stats[['Rok', 'kier. Wiejski', '% kier. Wiejskich', 'kier. Miejski', '% kier. Miejskich', 'Suma']].copy() # Zmiana etykiet\n",
    "driver_stats_display['% kier. Wiejskich'] = driver_stats_display['% kier. Wiejskich'].map('{:.1f}%'.format) # Zmiana etykiety\n",
    "driver_stats_display['% kier. Miejskich'] = driver_stats_display['% kier. Miejskich'].map('{:.1f}%'.format) # Zmiana etykiety\n",
    "\n",
    "# Wyświetlenie drugiej tabeli\n",
    "print(\"=\"*50)\n",
    "print(\"Tabela2: Rozkład kierowców według miejsca zamieszkania w poszczególnych latach:\")\n",
    "print(tabulate(driver_stats_display, headers=['Rok', 'kier. Wiejski', '% kier. Wiejskich', 'kier. Miejski', '% kier. Miejskich', 'Suma'], tablefmt=\"grid\")) # Zmiana etykiet\n",
    "print(\"\\n\")\n",
    "\n",
    "# === Tworzenie wykresów ===\n",
    "# Tworzenie figury z trzema wykresami w układzie 2x2 (z trzecim rozciągniętym)\n",
    "fig = plt.figure(figsize=(14, 10))\n",
    "gs = fig.add_gridspec(2, 2, height_ratios=[1, 1])  # Ustalamy siatkę 2x2\n",
    "\n",
    "# Wykres 1: Całkowita liczba wypadków (lewy górny)\n",
    "ax1 = fig.add_subplot(gs[0, 0])\n",
    "bars1 = ax1.bar(total_stats['Kategoria'], total_stats['Liczba'], color='#93c47d')\n",
    "ax1.set_title('Całkowita liczba wypadków')\n",
    "ax1.set_ylabel('Liczba')\n",
    "ax1.grid(axis='y', linestyle='--', alpha=0.7)\n",
    "for bar in bars1:\n",
    "    height = bar.get_height()\n",
    "    ax1.text(bar.get_x() + bar.get_width()/2., height/2,\n",
    "             f'{int(height)} (100%)', ha='center', va='center', fontsize=12, color='black')\n",
    "\n",
    "# Wykres 2: Proporcje kierowców (prawy górny)\n",
    "ax2 = fig.add_subplot(gs[0, 1])\n",
    "bars2 = ax2.bar(['Kierowcy'], driver_origin['Liczba kierowców'][0], color='#1f77b4', label='kier. Wiejski') # Zmiana etykiety\n",
    "bars3 = ax2.bar(['Kierowcy'], driver_origin['Liczba kierowców'][1], bottom=driver_origin['Liczba kierowców'][0],\n",
    "                 color='#ff7f0e', label='kier. Miejski') # Zmiana etykiety\n",
    "ax2.set_title('Proporcje kierowców według miejsca zamieszkania')\n",
    "ax2.set_ylabel('Liczba kierowców')\n",
    "# ax2.legend(loc='upper center', bbox_to_anchor=(0.5, 1.25))  # Legenda wysoko\n",
    "ax2.grid(axis='y', linestyle='--', alpha=0.7)\n",
    "for i, (bar, procent) in enumerate(zip([bars2[0], bars3[0]], driver_origin['Procent'])):\n",
    "    height = bar.get_height()\n",
    "    bottom = bar.get_y()\n",
    "    text_position = bottom + height/2 if i == 0 else bottom + height/3\n",
    "    ax2.text(bar.get_x() + bar.get_width()/2., text_position,\n",
    "             f\"{int(height)} ({procent:.1f}%)\", ha='center', va='center', fontsize=12)\n",
    "\n",
    "# Wykres 3: Rozkład kierowców według lat (dolny, rozciągnięty na obie kolumny)\n",
    "ax3 = fig.add_subplot(gs[1, :])  # Rozciągnięcie na obie kolumny\n",
    "bar_width = 0.35\n",
    "x = range(len(driver_stats))\n",
    "bars4 = ax3.bar(x, driver_stats['kier. Wiejski'], width=bar_width, color='#ff7f0e', label='kier. Wiejski') # Zmiana etykiety\n",
    "bars5 = ax3.bar([i + bar_width for i in x], driver_stats['kier. Miejski'], width=bar_width, color='#1f77b4', label='kier. Miejski') # Zmiana etykiety\n",
    "ax3.set_title('Tabela2: Rozkład kierowców według miejsca zamieszkania w poszczególnych latach')\n",
    "ax3.set_xlabel('Rok')\n",
    "ax3.set_ylabel('Liczba kierowców')\n",
    "ax3.set_xticks([i + bar_width/2 for i in x])\n",
    "ax3.set_xticklabels(driver_stats['Rok'])\n",
    "ax3.legend(loc='upper center', bbox_to_anchor=(0.5, 1.35))  # Legenda wysoko\n",
    "ax3.grid(axis='y', linestyle='--', alpha=0.7)\n",
    "\n",
    "# Umieszczenie liczb wewnątrz słupków\n",
    "for bars in [bars4, bars5]:\n",
    "    for bar in bars:\n",
    "        height = bar.get_height()\n",
    "        ax3.text(bar.get_x() + bar.get_width()/2., height/2,  # Pozycja w połowie wysokości słupka\n",
    "                 f'{int(height)}', ha='center', va='center', fontsize=10, color='white')\n",
    "\n",
    "# Dostosowanie układu\n",
    "fig.suptitle('Tabela1: Analiza kierowców w wypadkach drogowych', fontsize=16)\n",
    "plt.tight_layout(rect=[0, 0, 1, 0.90])  # Miejsce na legendy i tytuł\n",
    "plt.show()\n"
   ]
  },
  {
   "cell_type": "code",
   "execution_count": 9,
   "metadata": {},
   "outputs": [
    {
     "name": "stdout",
     "output_type": "stream",
     "text": [
      "==================================================\n",
      "Obserwowana tabela kontyngencji:\n",
      "               Wypadek obszar miejski  Wypadek obszar wiejski\n",
      "kier. Wiejski                   15893                   34441\n",
      "kier. Miejski                  174431                   48288\n",
      "\n",
      "\n",
      "==================================================\n",
      "Procent uczestników wypadków miejskich i wiejskich wg miejsca zamieszkania kierowcy:\n",
      "+---------------+------------------+------------------+--------+\n",
      "|               | obszar Miejski   | obszar Wiejski   | Suma   |\n",
      "+===============+==================+==================+========+\n",
      "| kier. Wiejski | 31.6%            | 68.4%            | 100%   |\n",
      "+---------------+------------------+------------------+--------+\n",
      "| kier. Miejski | 78.3%            | 21.7%            | 100%   |\n",
      "+---------------+------------------+------------------+--------+\n",
      "\n",
      "\n",
      "==================================================\n",
      "Wyniki testu chi-kwadrat:\n",
      "Statystyka chi-kwadrat (χ²): 42475.6019\n",
      "p-value: 0.0000e+00\n",
      "Stopnie swobody (dof): 1\n",
      "Współczynnik Phi (φ): 0.3944\n",
      "\n",
      "Oczekiwana tabela kontyngencji (dla H₀):\n",
      "               Wypadek obszar miejski  Wypadek obszar wiejski\n",
      "kier. Wiejski                 35083.9                 15250.1\n",
      "kier. Miejski                155240.1                 67478.9\n",
      "\n",
      "\n",
      "==================================================\n",
      "Interpretacja współczynnika Phi:\n",
      "Siła związku: Umiarkowany (φ = 0.3–0.5)\n",
      "\n",
      "\n",
      "Wniosek z testu chi-kwadrat: Odrzucamy hipotezę zerową (H₀).\n",
      "Istnieje statystycznie istotny związek między miejscem zamieszkania kierowcy a lokalizacją wypadku (p < 0.05).\n",
      "\n",
      "\n"
     ]
    },
    {
     "data": {
      "application/vnd.plotly.v1+json": {
       "config": {
        "plotlyServerURL": "https://plot.ly"
       },
       "data": [
        {
         "alignmentgroup": "True",
         "hovertemplate": "Typ obszaru=obszar Miejski<br>Pochodzenie kierowcy=%{x}<br>Procent wypadków=%{y}<extra></extra>",
         "legendgroup": "obszar Miejski",
         "marker": {
          "color": "#1f77b4",
          "pattern": {
           "shape": ""
          }
         },
         "name": "obszar Miejski",
         "offsetgroup": "obszar Miejski",
         "orientation": "v",
         "showlegend": true,
         "textposition": "auto",
         "texttemplate": "%{y:.1f}%",
         "type": "bar",
         "x": [
          "kier. Wiejski",
          "kier. Miejski"
         ],
         "xaxis": "x",
         "y": [
          31.575078475781776,
          78.3188681702055
         ],
         "yaxis": "y"
        },
        {
         "alignmentgroup": "True",
         "hovertemplate": "Typ obszaru=obszar Wiejski<br>Pochodzenie kierowcy=%{x}<br>Procent wypadków=%{y}<extra></extra>",
         "legendgroup": "obszar Wiejski",
         "marker": {
          "color": "#ff7f0e",
          "pattern": {
           "shape": ""
          }
         },
         "name": "obszar Wiejski",
         "offsetgroup": "obszar Wiejski",
         "orientation": "v",
         "showlegend": true,
         "textposition": "auto",
         "texttemplate": "%{y:.1f}%",
         "type": "bar",
         "x": [
          "kier. Wiejski",
          "kier. Miejski"
         ],
         "xaxis": "x",
         "y": [
          68.42492152421822,
          21.681131829794495
         ],
         "yaxis": "y"
        }
       ],
       "layout": {
        "barmode": "group",
        "legend": {
         "title": {
          "text": "Typ obszaru"
         },
         "tracegroupgap": 0
        },
        "template": {
         "data": {
          "bar": [
           {
            "error_x": {
             "color": "#2a3f5f"
            },
            "error_y": {
             "color": "#2a3f5f"
            },
            "marker": {
             "line": {
              "color": "#E5ECF6",
              "width": 0.5
             },
             "pattern": {
              "fillmode": "overlay",
              "size": 10,
              "solidity": 0.2
             }
            },
            "type": "bar"
           }
          ],
          "barpolar": [
           {
            "marker": {
             "line": {
              "color": "#E5ECF6",
              "width": 0.5
             },
             "pattern": {
              "fillmode": "overlay",
              "size": 10,
              "solidity": 0.2
             }
            },
            "type": "barpolar"
           }
          ],
          "carpet": [
           {
            "aaxis": {
             "endlinecolor": "#2a3f5f",
             "gridcolor": "white",
             "linecolor": "white",
             "minorgridcolor": "white",
             "startlinecolor": "#2a3f5f"
            },
            "baxis": {
             "endlinecolor": "#2a3f5f",
             "gridcolor": "white",
             "linecolor": "white",
             "minorgridcolor": "white",
             "startlinecolor": "#2a3f5f"
            },
            "type": "carpet"
           }
          ],
          "choropleth": [
           {
            "colorbar": {
             "outlinewidth": 0,
             "ticks": ""
            },
            "type": "choropleth"
           }
          ],
          "contour": [
           {
            "colorbar": {
             "outlinewidth": 0,
             "ticks": ""
            },
            "colorscale": [
             [
              0,
              "#0d0887"
             ],
             [
              0.1111111111111111,
              "#46039f"
             ],
             [
              0.2222222222222222,
              "#7201a8"
             ],
             [
              0.3333333333333333,
              "#9c179e"
             ],
             [
              0.4444444444444444,
              "#bd3786"
             ],
             [
              0.5555555555555556,
              "#d8576b"
             ],
             [
              0.6666666666666666,
              "#ed7953"
             ],
             [
              0.7777777777777778,
              "#fb9f3a"
             ],
             [
              0.8888888888888888,
              "#fdca26"
             ],
             [
              1,
              "#f0f921"
             ]
            ],
            "type": "contour"
           }
          ],
          "contourcarpet": [
           {
            "colorbar": {
             "outlinewidth": 0,
             "ticks": ""
            },
            "type": "contourcarpet"
           }
          ],
          "heatmap": [
           {
            "colorbar": {
             "outlinewidth": 0,
             "ticks": ""
            },
            "colorscale": [
             [
              0,
              "#0d0887"
             ],
             [
              0.1111111111111111,
              "#46039f"
             ],
             [
              0.2222222222222222,
              "#7201a8"
             ],
             [
              0.3333333333333333,
              "#9c179e"
             ],
             [
              0.4444444444444444,
              "#bd3786"
             ],
             [
              0.5555555555555556,
              "#d8576b"
             ],
             [
              0.6666666666666666,
              "#ed7953"
             ],
             [
              0.7777777777777778,
              "#fb9f3a"
             ],
             [
              0.8888888888888888,
              "#fdca26"
             ],
             [
              1,
              "#f0f921"
             ]
            ],
            "type": "heatmap"
           }
          ],
          "heatmapgl": [
           {
            "colorbar": {
             "outlinewidth": 0,
             "ticks": ""
            },
            "colorscale": [
             [
              0,
              "#0d0887"
             ],
             [
              0.1111111111111111,
              "#46039f"
             ],
             [
              0.2222222222222222,
              "#7201a8"
             ],
             [
              0.3333333333333333,
              "#9c179e"
             ],
             [
              0.4444444444444444,
              "#bd3786"
             ],
             [
              0.5555555555555556,
              "#d8576b"
             ],
             [
              0.6666666666666666,
              "#ed7953"
             ],
             [
              0.7777777777777778,
              "#fb9f3a"
             ],
             [
              0.8888888888888888,
              "#fdca26"
             ],
             [
              1,
              "#f0f921"
             ]
            ],
            "type": "heatmapgl"
           }
          ],
          "histogram": [
           {
            "marker": {
             "pattern": {
              "fillmode": "overlay",
              "size": 10,
              "solidity": 0.2
             }
            },
            "type": "histogram"
           }
          ],
          "histogram2d": [
           {
            "colorbar": {
             "outlinewidth": 0,
             "ticks": ""
            },
            "colorscale": [
             [
              0,
              "#0d0887"
             ],
             [
              0.1111111111111111,
              "#46039f"
             ],
             [
              0.2222222222222222,
              "#7201a8"
             ],
             [
              0.3333333333333333,
              "#9c179e"
             ],
             [
              0.4444444444444444,
              "#bd3786"
             ],
             [
              0.5555555555555556,
              "#d8576b"
             ],
             [
              0.6666666666666666,
              "#ed7953"
             ],
             [
              0.7777777777777778,
              "#fb9f3a"
             ],
             [
              0.8888888888888888,
              "#fdca26"
             ],
             [
              1,
              "#f0f921"
             ]
            ],
            "type": "histogram2d"
           }
          ],
          "histogram2dcontour": [
           {
            "colorbar": {
             "outlinewidth": 0,
             "ticks": ""
            },
            "colorscale": [
             [
              0,
              "#0d0887"
             ],
             [
              0.1111111111111111,
              "#46039f"
             ],
             [
              0.2222222222222222,
              "#7201a8"
             ],
             [
              0.3333333333333333,
              "#9c179e"
             ],
             [
              0.4444444444444444,
              "#bd3786"
             ],
             [
              0.5555555555555556,
              "#d8576b"
             ],
             [
              0.6666666666666666,
              "#ed7953"
             ],
             [
              0.7777777777777778,
              "#fb9f3a"
             ],
             [
              0.8888888888888888,
              "#fdca26"
             ],
             [
              1,
              "#f0f921"
             ]
            ],
            "type": "histogram2dcontour"
           }
          ],
          "mesh3d": [
           {
            "colorbar": {
             "outlinewidth": 0,
             "ticks": ""
            },
            "type": "mesh3d"
           }
          ],
          "parcoords": [
           {
            "line": {
             "colorbar": {
              "outlinewidth": 0,
              "ticks": ""
             }
            },
            "type": "parcoords"
           }
          ],
          "pie": [
           {
            "automargin": true,
            "type": "pie"
           }
          ],
          "scatter": [
           {
            "fillpattern": {
             "fillmode": "overlay",
             "size": 10,
             "solidity": 0.2
            },
            "type": "scatter"
           }
          ],
          "scatter3d": [
           {
            "line": {
             "colorbar": {
              "outlinewidth": 0,
              "ticks": ""
             }
            },
            "marker": {
             "colorbar": {
              "outlinewidth": 0,
              "ticks": ""
             }
            },
            "type": "scatter3d"
           }
          ],
          "scattercarpet": [
           {
            "marker": {
             "colorbar": {
              "outlinewidth": 0,
              "ticks": ""
             }
            },
            "type": "scattercarpet"
           }
          ],
          "scattergeo": [
           {
            "marker": {
             "colorbar": {
              "outlinewidth": 0,
              "ticks": ""
             }
            },
            "type": "scattergeo"
           }
          ],
          "scattergl": [
           {
            "marker": {
             "colorbar": {
              "outlinewidth": 0,
              "ticks": ""
             }
            },
            "type": "scattergl"
           }
          ],
          "scattermapbox": [
           {
            "marker": {
             "colorbar": {
              "outlinewidth": 0,
              "ticks": ""
             }
            },
            "type": "scattermapbox"
           }
          ],
          "scatterpolar": [
           {
            "marker": {
             "colorbar": {
              "outlinewidth": 0,
              "ticks": ""
             }
            },
            "type": "scatterpolar"
           }
          ],
          "scatterpolargl": [
           {
            "marker": {
             "colorbar": {
              "outlinewidth": 0,
              "ticks": ""
             }
            },
            "type": "scatterpolargl"
           }
          ],
          "scatterternary": [
           {
            "marker": {
             "colorbar": {
              "outlinewidth": 0,
              "ticks": ""
             }
            },
            "type": "scatterternary"
           }
          ],
          "surface": [
           {
            "colorbar": {
             "outlinewidth": 0,
             "ticks": ""
            },
            "colorscale": [
             [
              0,
              "#0d0887"
             ],
             [
              0.1111111111111111,
              "#46039f"
             ],
             [
              0.2222222222222222,
              "#7201a8"
             ],
             [
              0.3333333333333333,
              "#9c179e"
             ],
             [
              0.4444444444444444,
              "#bd3786"
             ],
             [
              0.5555555555555556,
              "#d8576b"
             ],
             [
              0.6666666666666666,
              "#ed7953"
             ],
             [
              0.7777777777777778,
              "#fb9f3a"
             ],
             [
              0.8888888888888888,
              "#fdca26"
             ],
             [
              1,
              "#f0f921"
             ]
            ],
            "type": "surface"
           }
          ],
          "table": [
           {
            "cells": {
             "fill": {
              "color": "#EBF0F8"
             },
             "line": {
              "color": "white"
             }
            },
            "header": {
             "fill": {
              "color": "#C8D4E3"
             },
             "line": {
              "color": "white"
             }
            },
            "type": "table"
           }
          ]
         },
         "layout": {
          "annotationdefaults": {
           "arrowcolor": "#2a3f5f",
           "arrowhead": 0,
           "arrowwidth": 1
          },
          "autotypenumbers": "strict",
          "coloraxis": {
           "colorbar": {
            "outlinewidth": 0,
            "ticks": ""
           }
          },
          "colorscale": {
           "diverging": [
            [
             0,
             "#8e0152"
            ],
            [
             0.1,
             "#c51b7d"
            ],
            [
             0.2,
             "#de77ae"
            ],
            [
             0.3,
             "#f1b6da"
            ],
            [
             0.4,
             "#fde0ef"
            ],
            [
             0.5,
             "#f7f7f7"
            ],
            [
             0.6,
             "#e6f5d0"
            ],
            [
             0.7,
             "#b8e186"
            ],
            [
             0.8,
             "#7fbc41"
            ],
            [
             0.9,
             "#4d9221"
            ],
            [
             1,
             "#276419"
            ]
           ],
           "sequential": [
            [
             0,
             "#0d0887"
            ],
            [
             0.1111111111111111,
             "#46039f"
            ],
            [
             0.2222222222222222,
             "#7201a8"
            ],
            [
             0.3333333333333333,
             "#9c179e"
            ],
            [
             0.4444444444444444,
             "#bd3786"
            ],
            [
             0.5555555555555556,
             "#d8576b"
            ],
            [
             0.6666666666666666,
             "#ed7953"
            ],
            [
             0.7777777777777778,
             "#fb9f3a"
            ],
            [
             0.8888888888888888,
             "#fdca26"
            ],
            [
             1,
             "#f0f921"
            ]
           ],
           "sequentialminus": [
            [
             0,
             "#0d0887"
            ],
            [
             0.1111111111111111,
             "#46039f"
            ],
            [
             0.2222222222222222,
             "#7201a8"
            ],
            [
             0.3333333333333333,
             "#9c179e"
            ],
            [
             0.4444444444444444,
             "#bd3786"
            ],
            [
             0.5555555555555556,
             "#d8576b"
            ],
            [
             0.6666666666666666,
             "#ed7953"
            ],
            [
             0.7777777777777778,
             "#fb9f3a"
            ],
            [
             0.8888888888888888,
             "#fdca26"
            ],
            [
             1,
             "#f0f921"
            ]
           ]
          },
          "colorway": [
           "#636efa",
           "#EF553B",
           "#00cc96",
           "#ab63fa",
           "#FFA15A",
           "#19d3f3",
           "#FF6692",
           "#B6E880",
           "#FF97FF",
           "#FECB52"
          ],
          "font": {
           "color": "#2a3f5f"
          },
          "geo": {
           "bgcolor": "white",
           "lakecolor": "white",
           "landcolor": "#E5ECF6",
           "showlakes": true,
           "showland": true,
           "subunitcolor": "white"
          },
          "hoverlabel": {
           "align": "left"
          },
          "hovermode": "closest",
          "mapbox": {
           "style": "light"
          },
          "paper_bgcolor": "white",
          "plot_bgcolor": "#E5ECF6",
          "polar": {
           "angularaxis": {
            "gridcolor": "white",
            "linecolor": "white",
            "ticks": ""
           },
           "bgcolor": "#E5ECF6",
           "radialaxis": {
            "gridcolor": "white",
            "linecolor": "white",
            "ticks": ""
           }
          },
          "scene": {
           "xaxis": {
            "backgroundcolor": "#E5ECF6",
            "gridcolor": "white",
            "gridwidth": 2,
            "linecolor": "white",
            "showbackground": true,
            "ticks": "",
            "zerolinecolor": "white"
           },
           "yaxis": {
            "backgroundcolor": "#E5ECF6",
            "gridcolor": "white",
            "gridwidth": 2,
            "linecolor": "white",
            "showbackground": true,
            "ticks": "",
            "zerolinecolor": "white"
           },
           "zaxis": {
            "backgroundcolor": "#E5ECF6",
            "gridcolor": "white",
            "gridwidth": 2,
            "linecolor": "white",
            "showbackground": true,
            "ticks": "",
            "zerolinecolor": "white"
           }
          },
          "shapedefaults": {
           "line": {
            "color": "#2a3f5f"
           }
          },
          "ternary": {
           "aaxis": {
            "gridcolor": "white",
            "linecolor": "white",
            "ticks": ""
           },
           "baxis": {
            "gridcolor": "white",
            "linecolor": "white",
            "ticks": ""
           },
           "bgcolor": "#E5ECF6",
           "caxis": {
            "gridcolor": "white",
            "linecolor": "white",
            "ticks": ""
           }
          },
          "title": {
           "x": 0.05
          },
          "xaxis": {
           "automargin": true,
           "gridcolor": "white",
           "linecolor": "white",
           "ticks": "",
           "title": {
            "standoff": 15
           },
           "zerolinecolor": "white",
           "zerolinewidth": 2
          },
          "yaxis": {
           "automargin": true,
           "gridcolor": "white",
           "linecolor": "white",
           "ticks": "",
           "title": {
            "standoff": 15
           },
           "zerolinecolor": "white",
           "zerolinewidth": 2
          }
         }
        },
        "title": {
         "text": "Procent uczestników wypadków na obszarze miejskim i wiejskim<br>wg miejsca zamieszkania kierowcy"
        },
        "xaxis": {
         "anchor": "y",
         "domain": [
          0,
          1
         ],
         "title": {
          "text": "Pochodzenie kierowcy"
         }
        },
        "yaxis": {
         "anchor": "x",
         "domain": [
          0,
          1
         ],
         "ticksuffix": "%",
         "title": {
          "text": "Procent wypadków"
         }
        }
       }
      }
     },
     "metadata": {},
     "output_type": "display_data"
    }
   ],
   "source": [
    "# 1. Tworzenie tabeli kontyngencji na podstawie danych\n",
    "contingency_table = pd.crosstab(data['is_urban_driver'], data['is_rural_accident'])\n",
    "contingency_table.index = ['kier. Wiejski', 'kier. Miejski']\n",
    "contingency_table.columns = ['Wypadek obszar miejski', 'Wypadek obszar wiejski']\n",
    "\n",
    "# Wyświetlenie obserwowanej tabeli kontyngencji\n",
    "print(\"=\"*50)\n",
    "print(\"Obserwowana tabela kontyngencji:\")\n",
    "print(contingency_table)\n",
    "print(\"\\n\")\n",
    "\n",
    "# 2. Obliczenie procentów uczestników wypadków wg miejsca zamieszkania\n",
    "location_stats = pd.crosstab(data['is_urban_driver'], data['is_rural_accident'],  \n",
    "                                 normalize='index') * 100\n",
    "location_stats.index = ['kier. Wiejski', 'kier. Miejski']\n",
    "location_stats.columns = ['obszar Miejski', 'obszar Wiejski']\n",
    "location_stats['Suma'] = 100\n",
    "\n",
    "# Przygotowanie tabeli do wyświetlenia\n",
    "location_stats_display = location_stats.copy()\n",
    "location_stats_display['obszar Miejski'] = location_stats_display['obszar Miejski'].map('{:.1f}%'.format)\n",
    "location_stats_display['obszar Wiejski'] = location_stats_display['obszar Wiejski'].map('{:.1f}%'.format)\n",
    "location_stats_display['Suma'] = location_stats_display['Suma'].map('{:.0f}%'.format)\n",
    "\n",
    "print(\"=\"*50)\n",
    "print(\"Procent uczestników wypadków miejskich i wiejskich wg miejsca zamieszkania kierowcy:\")\n",
    "print(tabulate(location_stats_display, headers=\"keys\", tablefmt=\"grid\"))\n",
    "print(\"\\n\")\n",
    "\n",
    "# 3. Przeprowadzenie testu chi-kwadrat\n",
    "chi2, p, dof, expected = chi2_contingency(contingency_table)\n",
    "\n",
    "# Obliczenie całkowitej liczby obserwacji\n",
    "n = contingency_table.values.sum()\n",
    "\n",
    "# Obliczenie współczynnika Phi\n",
    "phi = np.sqrt(chi2 / n)\n",
    "\n",
    "# Wyświetlenie wyników testu chi-kwadrat\n",
    "print(\"=\"*50)\n",
    "print(\"Wyniki testu chi-kwadrat:\")\n",
    "print(f\"Statystyka chi-kwadrat (χ²): {chi2:.4f}\")\n",
    "print(f\"p-value: {p:.4e}\")\n",
    "print(f\"Stopnie swobody (dof): {dof}\")\n",
    "print(f\"Współczynnik Phi (φ): {phi:.4f}\")\n",
    "print(\"\\nOczekiwana tabela kontyngencji (dla H₀):\")\n",
    "print(pd.DataFrame(expected, index=['kier. Wiejski', 'kier. Miejski'],  \n",
    "                          columns=['Wypadek obszar miejski', 'Wypadek obszar wiejski']).round(1))\n",
    "print(\"\\n\")\n",
    "\n",
    "# 4. Interpretacja siły związku na podstawie Phi\n",
    "print(\"=\"*50)\n",
    "print(\"Interpretacja współczynnika Phi:\")\n",
    "if phi < 0.1:\n",
    "    print(\"Siła związku: Bardzo słaby (φ < 0.1)\")\n",
    "elif 0.1 <= phi < 0.3:\n",
    "    print(\"Siła związku: Słaby (φ = 0.1–0.3)\")\n",
    "elif 0.3 <= phi < 0.5:\n",
    "    print(\"Siła związku: Umiarkowany (φ = 0.3–0.5)\")\n",
    "else:\n",
    "    print(\"Siła związku: Silny (φ ≥ 0.5)\")\n",
    "print(\"\\n\")\n",
    "\n",
    "# 5. Interpretacja wyniku testu chi-kwadrat\n",
    "alpha = 0.05  # Poziom istotności\n",
    "if p < alpha:\n",
    "    print(\"Wniosek z testu chi-kwadrat: Odrzucamy hipotezę zerową (H₀).\")\n",
    "    print(\"Istnieje statystycznie istotny związek między miejscem zamieszkania kierowcy a lokalizacją wypadku (p < 0.05).\")\n",
    "else:\n",
    "    print(\"Wniosek z testu chi-kwadrat: Nie ma podstaw do odrzucenia hipotezy zerowej (H₀).\")\n",
    "    print(\"Nie stwierdzono statystycznie istotnego związku między miejscem zamieszkania kierowcy a lokalizacją wypadku (p >= 0.05).\")\n",
    "print(\"\\n\")\n",
    "\n",
    "# 6. Wykres słupkowy\n",
    "# Reset indeksu i zmiana nazwy kolumny 'index' na 'is_urban_driver'\n",
    "location_stats_reset = location_stats.reset_index().rename(columns={'index': 'is_urban_driver'})\n",
    "\n",
    "fig = px.bar(location_stats_reset,  \n",
    "            x='is_urban_driver',  \n",
    "            y=['obszar Miejski', 'obszar Wiejski'],\n",
    "            title='Procent uczestników wypadków na obszarze miejskim i wiejskim<br>wg miejsca zamieszkania kierowcy',\n",
    "            labels={'value': 'Procent wypadków', 'variable': 'Typ obszaru', 'is_urban_driver': 'Pochodzenie kierowcy'},\n",
    "            color_discrete_map={'obszar Miejski': '#1f77b4', 'obszar Wiejski': '#ff7f0e'},\n",
    "            barmode='group')\n",
    "fig.update_layout(yaxis={'ticksuffix': '%', 'title': 'Procent wypadków'},\n",
    "                     xaxis={'title': 'Pochodzenie kierowcy'},\n",
    "                     legend_title='Typ obszaru')\n",
    "fig.update_traces(texttemplate='%{y:.1f}%', textposition='auto')\n",
    "fig.show()\n"
   ]
  },
  {
   "cell_type": "markdown",
   "metadata": {},
   "source": [
    "### Analiza związku między miejscem zamieszkania kierowcy a prawdopodobieństwem udziału w wypadku drogowym na terenach wiejskich\n",
    "\n",
    "**Tabela 1: Proporcje kierowców według miejsca zamieszkania**\n",
    "| Pochodzenie   | Liczba kierowców | Procent |\n",
    "|---------------|------------------|---------|\n",
    "| Miejski       | 222719           | 81.6%   |\n",
    "| Niemiejski    | 50334            | 18.4%   |\n",
    "| Suma          | 273053           | 100.0%  |\n",
    "\n",
    "Kierowcy z obszarów miejskich dominują w ogólnej liczbie wypadków, co może odzwierciedlać większą populację miejską lub częstsze korzystanie z dróg.\n",
    "\n",
    "**Tabela 2: Rozkład kierowców według miejsca zamieszkania w latach**\n",
    "| Rok  | Niemiejski | Procent Niemiejski | Miejski | Procent Miejski | Suma  |\n",
    "|------|------------|--------------------|---------|-----------------|-------|\n",
    "| 2021 | 15908      | 17.8%              | 73686   | 82.2%           | 89594 |\n",
    "| 2022 | 17419      | 18.7%              | 75877   | 81.3%           | 93296 |\n",
    "| 2023 | 17007      | 18.9%              | 73156   | 81.1%           | 90163 |\n",
    "\n",
    "Proporcje pozostają stosunkowo stałe, z lekkim wzrostem udziału kierowców niemiejskich w 2023 roku.\n",
    "\n",
    "#### 3. Lokalizacja wypadków według miejsca zamieszkania kierowcy\n",
    "Kluczowym elementem analizy było zbadanie, gdzie (na terenach miejskich czy wiejskich) dochodzi do wypadków w zależności od pochodzenia kierowcy:\n",
    "- **Kierowcy niemiejscy**:\n",
    "  - Wypadki miejskie: 31.6%.\n",
    "  - Wypadki wiejskie: 68.4%.\n",
    "- **Kierowcy miejscy**:\n",
    "  - Wypadki miejskie: 78.3%.\n",
    "  - Wypadki wiejskie: 21.7%.\n",
    "\n",
    "**Tabela 3: Procent uczestników wypadków wg miejsca zamieszkania i lokalizacji**\n",
    "| Pochodzenie kierowcy | Miejskie | Wiejskie | Suma  |\n",
    "|-----------------------|----------|----------|-------|\n",
    "| Kierowca niemiejski   | 31.6%    | 68.4%    | 100%  |\n",
    "| Kierowca miejski      | 78.3%    | 21.7%    | 100%  |\n",
    "\n",
    "---\n",
    "\n",
    "#### 4. Test chi-kwadrat dla niezależności:\n",
    "Aby ocenić, czy istnieje statystycznie istotny związek między miejscem zamieszkania kierowcy a lokalizacją wypadku, przeprowadzono **test chi-kwadrat**.  \n",
    "- **Hipoteza zerowa (H₀):** Nie ma związku między pochodzeniem kierowcy a lokalizacją wypadku.  \n",
    "- **Hipoteza alternatywna (H₁):** Istnieje związek między tymi zmiennymi.  \n",
    "\n",
    "**Wyniki testu:**  \n",
    "\n",
    "1. **Tabela kontyngencji (obserwowane częstości):**  \n",
    "   |                     | Wypadek miejski | Wypadek wiejski | **Razem** |  \n",
    "   |---------------------|-----------------|-----------------|-----------|  \n",
    "   | **Kierowca niemiejski** | 15,893         | 34,441          | **50,334** |  \n",
    "   | **Kierowca miejski**    | 174,431        | 48,288          | **222,719** |  \n",
    "   | **Razem**              | **190,324**    | **82,729**      | **273,053** |  \n",
    "\n",
    "\n",
    "2. **Wyniki testu statystycznego:**  \n",
    "   - χ² = **42,475.60** (df = 1)  \n",
    "   - p-value = **< 0.00001** (istotność praktycznie zerowa)  \n",
    "   - Współczynnik Phi (φ) = **0.394** → związek **umiarkowany**  \n",
    "\n",
    "3. **Tabela oczekiwana (dla H₀):**  \n",
    "   |                     | Wypadek miejski | Wypadek wiejski |  \n",
    "   |---------------------|-----------------|-----------------|  \n",
    "   | **Kierowca niemiejski** | 35,083.9       | 15,250.1        |  \n",
    "   | **Kierowca miejski**    | 155,240.1      | 67,478.9        |  \n",
    "\n",
    "---\n",
    "\n",
    "### Kluczowe obserwacje:\n",
    "   - **Kierowcy z obszarów wiejskich**: Znacznie częściej uczestniczą w wypadkach na terenach wiejskich (68.4%) niż miejskich (31.6%).\n",
    "   - **Kierowcy z obszarów miejskich**: Dominują w wypadkach na terenach miejskich (78.3%), a rzadziej uczestniczą w wypadkach na terenach wiejskich (21.7%).\n",
    "\n",
    "**Wyniki testu chi-kwadrat:**\n",
    "   - Test chi-kwadrat (χ² = 42,475.6, p < 0.001) wykazał wartość **p < 0.001**, która wskazuje na **odrzucenie hipotezy zerowej (H₀)**, co potwierdza statystycznie istotny związek między miejscem zamieszkania kierowcy a lokalizacją wypadku. Oznacza to, że korelacja (zależność) między miejscem zamieszkania, a lokalizacją wypadku jest nieprzypadkowa i może być generalizowana na szerszą populację.\n",
    "   - Siła tej korelacji (związku/zależności), mierzona współczynnikiem Phi, osiągneła wartość (φ ≈ 0.394), co sugeruje **umiarkowaną siłę związku** między zmiennymi. Oznacza to, że zmienna miejsca zamieszkania jest ważna, jednak inne czynniki (zmienne) (np. warunki drogowe, doświadczenie kierowcy) mogą również wpływać na wyniki.\n",
    "\n",
    "**Wiarygodność wyników:**  \n",
    "   - Duża próba (N = 273,053) zwiększa wiarygodność wyników, choć umiarkowana siła związku (φ = 0.394) sugeruje potrzebę uwzględnienia dodatkowych czynników w dalszych analizach.\n",
    "\n",
    "---\n",
    "### Wnioski z analizy:\n",
    "\n",
    "1. **Cel pracy:** \n",
    "   - Zbadanie, czy istnieje związek między miejscem zamieszkania kierowcy (miejskim lub niemiejskim) a prawdopodobieństwem jego udziału w wypadku drogowym.    \n",
    "2. **Pytanie badawcze:** \n",
    "   - Czy miejsce zamieszkania kierowcy (miejskie vs. niemiejskie) wpływa na prawdopodobieństwo udziału w wypadku drogowym?     \n",
    "3. **Hipoteza badawcza:** \n",
    "   - Kierowcy miejscy są bardziej narażeni na wypadki na terenach wiejskich niż kierowcy wiejscy.\n",
    "\n",
    "**1 i 2 Odpowiedź:**  \n",
    "- Analiza potwierdziła istotny związek. Kierowcy mają tendencję do uczestniczenia w wypadkach w środowisku zgodnym z miejscem zamieszkania — kierowcy miejscy częściej ulegają wypadkom w miastach, a kierowcy z obszarów wiejskich na terenach wiejskich. Szczególnie wyraźnie widać to w przypadku kierowców wiejskich, którzy ponad trzykrotnie częściej uczestniczą w wypadkach na obszarach wiejskich (68.4%) niż kierowcy miejscy (21.7%).\n",
    "\n",
    "**3 Odpowiedź:**  \n",
    "- Wyniki nie potwierdzają hipotezy, że kierowcy miejscy są bardziej narażeni na wypadki na terenach wiejskich. Przeciwnie, kierowcy niemiejscy dominują w tej kategorii w swoich grupach.\n",
    "\n",
    "---"
   ]
  },
  {
   "cell_type": "markdown",
   "metadata": {},
   "source": [
    "# II. CZ. 2 - Identyfikacja kluczowych czynników wpływających na przewidywanie lokalizacji wypadku (na terenie wiejskim), z wykorzystaniem modeli uczenia maszynowego.\n",
    "   - Drugi cel pracy koncentruje się na identyfikacji kluczowych czynników wpływających na przewidywanie, czy wypadek drogowy miał miejsce na terenie wiejskim (`is_rural_accident` = 1), z wykorzystaniem modeli uczenia maszynowego."
   ]
  },
  {
   "cell_type": "markdown",
   "metadata": {},
   "source": [
    "#### **Wybrane modele w celu zbadania binarnej klasyfikacji lokalizacji wypadku drogowego – czy miał on miejsce na terenie wiejskim, czy nie:**\n",
    "   - XGBoost Classifier\n",
    "   - Random Forest Classifier\n",
    "\n",
    "#### **Opis Procesu modelowania:**\n",
    "1. **Przygotowanie danych** do trenowania modeli:\n",
    "   - Dane zostały podzielone na trzy zbiory: treningowy (60%), walidacyjny (20%) oraz testowy (20%).\n",
    "   - Na zbiorze treningowym zastosowano technikę **SMOTE** w celu zrównoważenia klas przed uczeniem modeli.\n",
    "\n",
    "2. **Trenowanie modeli XGBoost i Random Forest** na zbalansowanym zbiorze treningowym, z zastosowaniem odpowiednio dobranych hiperparametrów.\n",
    "\n",
    "3. **Ocena modeli** na zbiorze walidacyjnym i testowym (pozostawionych w oryginalnej, niezbalansowanej postaci):\n",
    "   - Wykorzystano metryki klasyfikacji: `classification_report` (dokładność, precyzja, recall, F1-score) oraz **AUC-ROC**.\n",
    "\n",
    "4. Na podstawie wyników metryk walidacyjnych i testowych **wybrano model XGBoost** jako skuteczniejszy (wyższe AUC-ROC).\n",
    "\n",
    "5. Dla modelu XGBoost przeanalizowano **ważność cech wejściowych (feature importance)**:\n",
    "   - Utworzono tabelę ważności cech na podstawie `.feature_importances_`.\n",
    "   - Wybrano 12 najważniejszych cech i zaprezentowano je w formie tekstowej oraz graficznej (poziomy wykres słupkowy).\n",
    "\n",
    "6. **Wykonano testy niezależności (chi-kwadrat)**:\n",
    "   - Przeprowadzono je dla najważniejszych zmiennych kategorialnych względem `is_rural_accident`.\n",
    "   - Siłę powiązań oceniono na podstawie wartości V Craméra i dokonano interpretacji (słaby, umiarkowany, silny efekt).\n",
    "\n",
    "7. **Sprawdzono skuteczność modelu XGBoost**:\n",
    "   - Wygenerowano krzywą ROC oraz obliczono AUC w celu oceny rozdzielczości modelu.\n",
    "   - Wygenerowano wykres uczenia (`learning_curve()`) z użyciem scoringu F1 — graficzna analiza overfittingu i underfittingu.\n",
    "\n",
    "8. **Przedstawiono wnioski końcowe** z procesu analizy i modelowania.\n",
    "\n",
    "---"
   ]
  },
  {
   "cell_type": "code",
   "execution_count": 10,
   "metadata": {},
   "outputs": [
    {
     "name": "stdout",
     "output_type": "stream",
     "text": [
      "\n",
      "Wyniki XGBoost na zbiorze walidacyjnym (próg 0.5):\n",
      "               precision    recall  f1-score   support\n",
      "\n",
      "           0       0.91      0.93      0.92     38065\n",
      "           1       0.83      0.79      0.81     16546\n",
      "\n",
      "    accuracy                           0.89     54611\n",
      "   macro avg       0.87      0.86      0.86     54611\n",
      "weighted avg       0.89      0.89      0.89     54611\n",
      "\n",
      "AUC-ROC XGBoost (walidacyjny): 0.9400\n",
      "\n",
      "Wyniki RandomForest na zbiorze walidacyjnym (próg 0.5):\n",
      "               precision    recall  f1-score   support\n",
      "\n",
      "           0       0.92      0.88      0.90     38065\n",
      "           1       0.76      0.83      0.79     16546\n",
      "\n",
      "    accuracy                           0.87     54611\n",
      "   macro avg       0.84      0.86      0.85     54611\n",
      "weighted avg       0.87      0.87      0.87     54611\n",
      "\n",
      "AUC-ROC RandomForest (walidacyjny): 0.9338\n",
      "\n",
      "=== Testowanie XGBoost na zbiorze testowym (próg 0.5) ===\n",
      "              precision    recall  f1-score   support\n",
      "\n",
      "           0       0.91      0.93      0.92     38065\n",
      "           1       0.84      0.78      0.81     16546\n",
      "\n",
      "    accuracy                           0.89     54611\n",
      "   macro avg       0.87      0.86      0.86     54611\n",
      "weighted avg       0.89      0.89      0.89     54611\n",
      "\n",
      "AUC-ROC XGBoost (testowy): 0.9400\n",
      "\n",
      "=== Testowanie RandomForest na zbiorze testowym (próg 0.5) ===\n",
      "              precision    recall  f1-score   support\n",
      "\n",
      "           0       0.92      0.89      0.90     38065\n",
      "           1       0.76      0.83      0.79     16546\n",
      "\n",
      "    accuracy                           0.87     54611\n",
      "   macro avg       0.84      0.86      0.85     54611\n",
      "weighted avg       0.87      0.87      0.87     54611\n",
      "\n",
      "AUC-ROC RandomForest (testowy): 0.9327\n"
     ]
    }
   ],
   "source": [
    "# Model XGBoost - trenowanie na zbiorze treningowym\n",
    "xgb_model = XGBClassifier(\n",
    "    random_state=42,\n",
    "    scale_pos_weight=1,  # Po SMOTE nie potrzebujemy scale_pos_weight\n",
    "    max_depth=9,\n",
    "    n_estimators=269,\n",
    "    learning_rate=0.06,\n",
    "    reg_alpha=0.1,\n",
    "    reg_lambda=1.9,\n",
    "    subsample=0.8,\n",
    "    colsample_bytree=0.6,\n",
    ")\n",
    "#xgb_model.fit(X_train, y_train) #--> teraz nie uwayzamy, bo pod walidacja krzyzowa to zrobimy\n",
    "\n",
    "#Używamy 5-krotnej walidacji krzyżowej (cv=5)\n",
    "scores = cross_val_score(xgb_model, X_train, y_train, cv=5, scoring='roc_auc')  # Możesz wybrać inną metrykę, np. 'accuracy'\n",
    "xgb_model.fit(X_train, y_train)\n",
    "\n",
    "# Model RandomForest - trenowanie na zbiorze treningowym\n",
    "rf_model = RandomForestClassifier(\n",
    "    random_state=42,\n",
    "    n_estimators=229,\n",
    "    max_depth=14,\n",
    "    min_samples_split=54,\n",
    "    min_samples_leaf=26,\n",
    "    n_jobs=-1,\n",
    "    max_features='sqrt',\n",
    "    criterion='entropy',\n",
    "    bootstrap=False\n",
    ")\n",
    "# rf_model.fit(X_train, y_train)\n",
    "# Walidacja krzyżowa (5-krotna)\n",
    "scores = cross_val_score(rf_model, X_train, y_train, cv=5, scoring='roc_auc')  # Możesz użyć innej metryki\n",
    "rf_model.fit(X_train, y_train)\n",
    "\n",
    "# Ocena modelu XGBoost na zbiorze walidacyjnym (próg 0.5)\n",
    "y_val_pred_proba_xgb = xgb_model.predict_proba(X_val)[:, 1]\n",
    "y_val_pred_xgb = (y_val_pred_proba_xgb >= 0.5).astype(int)\n",
    "print(\"\\nWyniki XGBoost na zbiorze walidacyjnym (próg 0.5):\\n\", classification_report(y_val, y_val_pred_xgb))\n",
    "print(f\"AUC-ROC XGBoost (walidacyjny): {roc_auc_score(y_val, y_val_pred_proba_xgb):.4f}\")\n",
    "\n",
    "# Ocena modelu RandomForest na zbiorze walidacyjnym (próg 0.5)\n",
    "y_val_pred_proba_rf = rf_model.predict_proba(X_val)[:, 1]\n",
    "y_val_pred_rf = (y_val_pred_proba_rf >= 0.5).astype(int)\n",
    "print(\"\\nWyniki RandomForest na zbiorze walidacyjnym (próg 0.5):\\n\", classification_report(y_val, y_val_pred_rf))\n",
    "print(f\"AUC-ROC RandomForest (walidacyjny): {roc_auc_score(y_val, y_val_pred_proba_rf):.4f}\")\n",
    "\n",
    "# Ocena modelu XGBoost na zbiorze testowym (próg 0.5)\n",
    "y_test_pred_proba_xgb = xgb_model.predict_proba(X_test)[:, 1]\n",
    "y_test_pred_xgb = (y_test_pred_proba_xgb >= 0.5).astype(int)\n",
    "print(\"\\n=== Testowanie XGBoost na zbiorze testowym (próg 0.5) ===\")\n",
    "print(classification_report(y_test, y_test_pred_xgb))\n",
    "print(f\"AUC-ROC XGBoost (testowy): {roc_auc_score(y_test, y_test_pred_proba_xgb):.4f}\")\n",
    "\n",
    "# Ocena modelu RandomForest na zbiorze testowym (próg 0.5)\n",
    "y_test_pred_proba_rf = rf_model.predict_proba(X_test)[:, 1]\n",
    "y_test_pred_rf = (y_test_pred_proba_rf >= 0.5).astype(int)\n",
    "print(\"\\n=== Testowanie RandomForest na zbiorze testowym (próg 0.5) ===\")\n",
    "print(classification_report(y_test, y_test_pred_rf))\n",
    "print(f\"AUC-ROC RandomForest (testowy): {roc_auc_score(y_test, y_test_pred_proba_rf):.4f}\")"
   ]
  },
  {
   "cell_type": "code",
   "execution_count": 11,
   "metadata": {},
   "outputs": [
    {
     "name": "stdout",
     "output_type": "stream",
     "text": [
      "==================================================\n",
      "Ważność cech (XGBoost) - 12 najważniejszych:\n",
      "Cecha: speed_limit_normalized, Ważność: 0.1827\n",
      "Cecha: urban_driver_speed, Ważność: 0.1711\n",
      "Cecha: is_urban_driver, Ważność: 0.0566\n",
      "Cecha: distance_speed_interaction, Ważność: 0.0543\n",
      "Cecha: junction_detail_1.0, Ważność: 0.0291\n",
      "Cecha: road_type_6, Ważność: 0.0268\n",
      "Cecha: junction_control_4.0, Ważność: 0.0242\n",
      "Cecha: light_conditions_6.0, Ważność: 0.0231\n",
      "Cecha: casualty_type_9.0, Ważność: 0.0170\n",
      "Cecha: important_driver_distance, Ważność: 0.0166\n",
      "Cecha: urban_driver_long_distance, Ważność: 0.0148\n",
      "Cecha: skidding_and_overturning_9.0, Ważność: 0.0132\n",
      "\n",
      "\n"
     ]
    },
    {
     "data": {
      "image/png": "[encoded data removed]",
      "text/plain": [
       "<Figure size 1000x800 with 1 Axes>"
      ]
     },
     "metadata": {},
     "output_type": "display_data"
    }
   ],
   "source": [
    "# Wyrównanie kolumn X_test do X i imputacja NaN na 0 (jeśli X jest dostępne)\n",
    "if 'X' in globals():\n",
    "    X_test = X_test.reindex(columns=X.columns, fill_value=0)\n",
    "\n",
    "# Ważność cech dla XGBoost\n",
    "feature_importance_xgb = pd.DataFrame({'Feature': X.columns, 'Importance': xgb_model.feature_importances_})\n",
    "\n",
    "# Wybór 12 najważniejszych cech dla XGBoost\n",
    "top_xgb = feature_importance_xgb.sort_values(by='Importance', ascending=False).head(12)\n",
    "\n",
    "# Wyświetlenie wyników XGBoost jako zwykły tekst\n",
    "print(\"=\"*50)\n",
    "print(\"Ważność cech (XGBoost) - 12 najważniejszych:\")\n",
    "for index, row in top_xgb.iterrows():\n",
    "    print(f\"Cecha: {row['Feature']}, Ważność: {row['Importance']:.4f}\")\n",
    "print(\"\\n\")\n",
    "\n",
    "# Wizualizacja ważności cech dla XGBoost\n",
    "fig, ax = plt.subplots(figsize=(10, 8))\n",
    "ax.barh(top_xgb['Feature'], top_xgb['Importance'], color='blue')\n",
    "ax.set_xlabel('Ważność cechy')\n",
    "ax.set_ylabel('Cecha')\n",
    "ax.set_title('Ważność cech (XGBoost) - 12 najważniejszych')\n",
    "ax.invert_yaxis()\n",
    "ax.grid(axis='x', linestyle='--', alpha=0.7)\n",
    "\n",
    "plt.tight_layout()\n",
    "plt.show()"
   ]
  },
  {
   "cell_type": "code",
   "execution_count": 12,
   "metadata": {},
   "outputs": [
    {
     "name": "stdout",
     "output_type": "stream",
     "text": [
      "==================================================\n",
      "Analiza Związku Kluczowych Cech z Lokalizacją Wypadku (Test Chi-kwadrat)\n",
      "==================================================\n",
      "\n",
      "W tej sekcji analizujemy statystyczny związek między kluczowymi cechami a zmienną `is_rural_accident` (lokalizacją wypadku - teren miejski vs. wiejski) przy użyciu testu chi-kwadrat. Siła powiązań mierzona jest współczynnikiem V Craméra.\n",
      "\n",
      "\n",
      "Tabela 1: Podsumowanie wyników testów chi-kwadrat\n",
      "+-----------------------------------------------------------------+-----------------+-----------+-------------+----------------+\n",
      "| Zmienna                                                         |   Statystyka χ² |   p-value |   V Craméra | Siła związku   |\n",
      "+=================================================================+=================+===========+=============+================+\n",
      "| `is_urban_driver` (Pochodzenie kierowcy)                        |         42475.6 | 0         |       0.394 | Umiarkowany    |\n",
      "+-----------------------------------------------------------------+-----------------+-----------+-------------+----------------+\n",
      "| `light_conditions` (Warunki oświetleniowe)                      |         13593.7 | 0         |       0.223 | Umiarkowany    |\n",
      "+-----------------------------------------------------------------+-----------------+-----------+-------------+----------------+\n",
      "| `important_driver_distance` (Odległość od miejsca zamieszkania) |         13160.5 | 0         |       0.22  | Umiarkowany    |\n",
      "+-----------------------------------------------------------------+-----------------+-----------+-------------+----------------+\n",
      "| `junction_control` (Kontrola skrzyżowania)                      |          9180.7 | 0         |       0.183 | Umiarkowany    |\n",
      "+-----------------------------------------------------------------+-----------------+-----------+-------------+----------------+\n",
      "| `casualty_type` (Typ poszkodowanego)                            |          8562.5 | 0         |       0.177 | Umiarkowany    |\n",
      "+-----------------------------------------------------------------+-----------------+-----------+-------------+----------------+\n",
      "| `skidding_and_overturning` (Poślizg i wywrócenie)               |          7113.2 | 0         |       0.161 | Umiarkowany    |\n",
      "+-----------------------------------------------------------------+-----------------+-----------+-------------+----------------+\n",
      "| `junction_detail` (Szczegóły skrzyżowania)                      |          2669.3 | 0         |       0.099 | Słaby          |\n",
      "+-----------------------------------------------------------------+-----------------+-----------+-------------+----------------+\n",
      "| `road_type` (Typ drogi)                                         |           349.1 | 1.543e-76 |       0.036 | Słaby          |\n",
      "+-----------------------------------------------------------------+-----------------+-----------+-------------+----------------+\n",
      "\n",
      "**Wniosek:** Wszystkie zmienne wykazują statystycznie istotny związek z `is_rural_accident` (p < 0.05). Najsilniejszy związek obserwujemy dla `is_urban_driver` (Pochodzenie kierowcy), co zgadza się z jego wysoką ważnością w modelowaniu. Słabsze związki dla `junction_detail` (Szczegóły skrzyżowania) i `road_type` (Typ drogi) potwierdzają ich mniejszy wpływ.\n",
      "\n",
      "\n",
      "Szczegółowe wyniki testów chi-kwadrat\n",
      "Poniżej przedstawiono tabele kontyngencji i wyniki testów chi-kwadrat dla każdej zmiennej.\n",
      "\n",
      "1. Test chi-kwadrat: `is_urban_driver` (Pochodzenie kierowcy) vs `is_rural_accident`\n",
      "Tabela kontyngencji (obserwowane częstości):\n",
      "+-------------------+--------+-------+\n",
      "|   is_urban_driver |      0 |     1 |\n",
      "+===================+========+=======+\n",
      "|                 0 |  15893 | 34441 |\n",
      "+-------------------+--------+-------+\n",
      "|                 1 | 174431 | 48288 |\n",
      "+-------------------+--------+-------+\n",
      "\n",
      "Wyniki testu statystycznego:\n",
      "- Statystyka chi-kwadrat (χ²): 42475.6\n",
      "- Wartość p (p-value): 0.000e+00\n",
      "- V Craméra: 0.394 (Umiarkowany związek)\n",
      "- Wniosek (α = 0.05): Odrzucamy hipotezę zerową (H₀). Istnieje statystycznie istotny związek (p < 0.0001).\n",
      "\n",
      "\n",
      "6. Test chi-kwadrat: `light_conditions` (Warunki oświetleniowe) vs `is_rural_accident`\n",
      "Tabela kontyngencji (obserwowane częstości):\n",
      "+--------------------+--------+-------+\n",
      "|   light_conditions |      0 |     1 |\n",
      "+====================+========+=======+\n",
      "|                  6 |    962 |  7299 |\n",
      "+--------------------+--------+-------+\n",
      "|                 99 | 189362 | 75430 |\n",
      "+--------------------+--------+-------+\n",
      "\n",
      "Wyniki testu statystycznego:\n",
      "- Statystyka chi-kwadrat (χ²): 13593.7\n",
      "- Wartość p (p-value): 0.000e+00\n",
      "- V Craméra: 0.223 (Umiarkowany związek)\n",
      "- Wniosek (α = 0.05): Odrzucamy hipotezę zerową (H₀). Istnieje statystycznie istotny związek (p < 0.0001).\n",
      "\n",
      "\n",
      "5. Test chi-kwadrat: `important_driver_distance` (Odległość od miejsca zamieszkania) vs `is_rural_accident`\n",
      "Tabela kontyngencji (obserwowane częstości):\n",
      "+-----------------------------+--------+-------+\n",
      "|   important_driver_distance |      0 |     1 |\n",
      "+=============================+========+=======+\n",
      "|                           0 | 154837 | 50211 |\n",
      "+-----------------------------+--------+-------+\n",
      "|                           1 |  35487 | 32518 |\n",
      "+-----------------------------+--------+-------+\n",
      "\n",
      "Wyniki testu statystycznego:\n",
      "- Statystyka chi-kwadrat (χ²): 13160.5\n",
      "- Wartość p (p-value): 0.000e+00\n",
      "- V Craméra: 0.220 (Umiarkowany związek)\n",
      "- Wniosek (α = 0.05): Odrzucamy hipotezę zerową (H₀). Istnieje statystycznie istotny związek (p < 0.0001).\n",
      "\n",
      "\n",
      "3. Test chi-kwadrat: `junction_control` (Kontrola skrzyżowania) vs `is_rural_accident`\n",
      "Tabela kontyngencji (obserwowane częstości):\n",
      "+--------------------+--------+-------+\n",
      "|   junction_control |      0 |     1 |\n",
      "+====================+========+=======+\n",
      "|                  2 |  46255 |  7068 |\n",
      "+--------------------+--------+-------+\n",
      "|                  4 | 139688 | 73807 |\n",
      "+--------------------+--------+-------+\n",
      "|                  9 |   4381 |  1854 |\n",
      "+--------------------+--------+-------+\n",
      "\n",
      "Wyniki testu statystycznego:\n",
      "- Statystyka chi-kwadrat (χ²): 9180.7\n",
      "- Wartość p (p-value): 0.000e+00\n",
      "- V Craméra: 0.183 (Umiarkowany związek)\n",
      "- Wniosek (α = 0.05): Odrzucamy hipotezę zerową (H₀). Istnieje statystycznie istotny związek (p < 0.0001).\n",
      "\n",
      "\n",
      "7. Test chi-kwadrat: `casualty_type` (Typ poszkodowanego) vs `is_rural_accident`\n",
      "Tabela kontyngencji (obserwowane częstości):\n",
      "+-----------------+--------+-------+\n",
      "|   casualty_type |      0 |     1 |\n",
      "+=================+========+=======+\n",
      "|               9 | 108675 | 62652 |\n",
      "+-----------------+--------+-------+\n",
      "|              99 |  81649 | 20077 |\n",
      "+-----------------+--------+-------+\n",
      "\n",
      "Wyniki testu statystycznego:\n",
      "- Statystyka chi-kwadrat (χ²): 8562.5\n",
      "- Wartość p (p-value): 0.000e+00\n",
      "- V Craméra: 0.177 (Umiarkowany związek)\n",
      "- Wniosek (α = 0.05): Odrzucamy hipotezę zerową (H₀). Istnieje statystycznie istotny związek (p < 0.0001).\n",
      "\n",
      "\n",
      "8. Test chi-kwadrat: `skidding_and_overturning` (Poślizg i wywrócenie) vs `is_rural_accident`\n",
      "Tabela kontyngencji (obserwowane częstości):\n",
      "+----------------------------+--------+-------+\n",
      "|   skidding_and_overturning |      0 |     1 |\n",
      "+============================+========+=======+\n",
      "|                          0 | 165545 | 71679 |\n",
      "+----------------------------+--------+-------+\n",
      "|                          1 |   8322 |  7137 |\n",
      "+----------------------------+--------+-------+\n",
      "|                          2 |   1618 |  1376 |\n",
      "+----------------------------+--------+-------+\n",
      "|                          3 |     14 |    24 |\n",
      "+----------------------------+--------+-------+\n",
      "|                          4 |      2 |     9 |\n",
      "+----------------------------+--------+-------+\n",
      "|                          5 |   3003 |  2234 |\n",
      "+----------------------------+--------+-------+\n",
      "|                          9 |  11820 |   270 |\n",
      "+----------------------------+--------+-------+\n",
      "\n",
      "Wyniki testu statystycznego:\n",
      "- Statystyka chi-kwadrat (χ²): 7113.2\n",
      "- Wartość p (p-value): 0.000e+00\n",
      "- V Craméra: 0.161 (Umiarkowany związek)\n",
      "- Wniosek (α = 0.05): Odrzucamy hipotezę zerową (H₀). Istnieje statystycznie istotny związek (p < 0.0001).\n",
      "\n",
      "\n",
      "4. Test chi-kwadrat: `junction_detail` (Szczegóły skrzyżowania) vs `is_rural_accident`\n",
      "Tabela kontyngencji (obserwowane częstości):\n",
      "+-------------------+--------+-------+\n",
      "|   junction_detail |      0 |     1 |\n",
      "+===================+========+=======+\n",
      "|                 1 |  19981 | 14606 |\n",
      "+-------------------+--------+-------+\n",
      "|                99 | 170343 | 68123 |\n",
      "+-------------------+--------+-------+\n",
      "\n",
      "Wyniki testu statystycznego:\n",
      "- Statystyka chi-kwadrat (χ²): 2669.3\n",
      "- Wartość p (p-value): 0.000e+00\n",
      "- V Craméra: 0.099 (Słaby związek)\n",
      "- Wniosek (α = 0.05): Odrzucamy hipotezę zerową (H₀). Istnieje statystycznie istotny związek (p < 0.0001).\n",
      "\n",
      "\n",
      "2. Test chi-kwadrat: `road_type` (Typ drogi) vs `is_rural_accident`\n",
      "Tabela kontyngencji (obserwowane częstości):\n",
      "+-------------+--------+-------+\n",
      "|   road_type |      0 |     1 |\n",
      "+=============+========+=======+\n",
      "|           3 |  27128 |  9607 |\n",
      "+-------------+--------+-------+\n",
      "|           6 | 138106 | 61655 |\n",
      "+-------------+--------+-------+\n",
      "|          99 |  25090 | 11467 |\n",
      "+-------------+--------+-------+\n",
      "\n",
      "Wyniki testu statystycznego:\n",
      "- Statystyka chi-kwadrat (χ²): 349.1\n",
      "- Wartość p (p-value): 1.543e-76\n",
      "- V Craméra: 0.036 (Słaby związek)\n",
      "- Wniosek (α = 0.05): Odrzucamy hipotezę zerową (H₀). Istnieje statystycznie istotny związek (p < 0.0001).\n",
      "\n",
      "\n",
      "Wykres 1: Siła związku V Craméra (interaktywny)\n"
     ]
    },
    {
     "data": {
      "application/vnd.plotly.v1+json": {
       "config": {
        "plotlyServerURL": "https://plot.ly"
       },
       "data": [
        {
         "alignmentgroup": "True",
         "hovertemplate": "Siła związku=Umiarkowany<br>Cecha=%{x}<br>V Craméra=%{text}<extra></extra>",
         "legendgroup": "Umiarkowany",
         "marker": {
          "color": "#1f77b4",
          "pattern": {
           "shape": ""
          }
         },
         "name": "Umiarkowany",
         "offsetgroup": "Umiarkowany",
         "orientation": "v",
         "showlegend": true,
         "text": [
          "0.394",
          "0.223",
          "0.220",
          "0.183",
          "0.177",
          "0.161"
         ],
         "textposition": "outside",
         "texttemplate": "%{text:.3f}",
         "type": "bar",
         "x": [
          "`is_urban_driver` (Pochodzenie kierowcy)",
          "`light_conditions` (Warunki oświetleniowe)",
          "`important_driver_distance` (Odległość od miejsca zamieszkania)",
          "`junction_control` (Kontrola skrzyżowania)",
          "`casualty_type` (Typ poszkodowanego)",
          "`skidding_and_overturning` (Poślizg i wywrócenie)"
         ],
         "xaxis": "x",
         "y": [
          0.394,
          0.223,
          0.22,
          0.183,
          0.177,
          0.161
         ],
         "yaxis": "y"
        },
        {
         "alignmentgroup": "True",
         "hovertemplate": "Siła związku=Słaby<br>Cecha=%{x}<br>V Craméra=%{text}<extra></extra>",
         "legendgroup": "Słaby",
         "marker": {
          "color": "#ff7f0e",
          "pattern": {
           "shape": ""
          }
         },
         "name": "Słaby",
         "offsetgroup": "Słaby",
         "orientation": "v",
         "showlegend": true,
         "text": [
          "0.099",
          "0.036"
         ],
         "textposition": "outside",
         "texttemplate": "%{text:.3f}",
         "type": "bar",
         "x": [
          "`junction_detail` (Szczegóły skrzyżowania)",
          "`road_type` (Typ drogi)"
         ],
         "xaxis": "x",
         "y": [
          0.099,
          0.036
         ],
         "yaxis": "y"
        }
       ],
       "layout": {
        "barmode": "relative",
        "legend": {
         "title": {
          "text": "Siła związku"
         },
         "tracegroupgap": 0
        },
        "shapes": [
         {
          "line": {
           "color": "orange",
           "dash": "dash",
           "width": 2
          },
          "type": "line",
          "x0": -0.5,
          "x1": 7.5,
          "y0": 0.1,
          "y1": 0.1
         },
         {
          "line": {
           "color": "blue",
           "dash": "dash",
           "width": 2
          },
          "type": "line",
          "x0": -0.5,
          "x1": 7.5,
          "y0": 0.3,
          "y1": 0.3
         },
         {
          "line": {
           "color": "red",
           "dash": "dash",
           "width": 2
          },
          "type": "line",
          "x0": -0.5,
          "x1": 7.5,
          "y0": 0.5,
          "y1": 0.5
         }
        ],
        "template": {
         "data": {
          "bar": [
           {
            "error_x": {
             "color": "#2a3f5f"
            },
            "error_y": {
             "color": "#2a3f5f"
            },
            "marker": {
             "line": {
              "color": "#E5ECF6",
              "width": 0.5
             },
             "pattern": {
              "fillmode": "overlay",
              "size": 10,
              "solidity": 0.2
             }
            },
            "type": "bar"
           }
          ],
          "barpolar": [
           {
            "marker": {
             "line": {
              "color": "#E5ECF6",
              "width": 0.5
             },
             "pattern": {
              "fillmode": "overlay",
              "size": 10,
              "solidity": 0.2
             }
            },
            "type": "barpolar"
           }
          ],
          "carpet": [
           {
            "aaxis": {
             "endlinecolor": "#2a3f5f",
             "gridcolor": "white",
             "linecolor": "white",
             "minorgridcolor": "white",
             "startlinecolor": "#2a3f5f"
            },
            "baxis": {
             "endlinecolor": "#2a3f5f",
             "gridcolor": "white",
             "linecolor": "white",
             "minorgridcolor": "white",
             "startlinecolor": "#2a3f5f"
            },
            "type": "carpet"
           }
          ],
          "choropleth": [
           {
            "colorbar": {
             "outlinewidth": 0,
             "ticks": ""
            },
            "type": "choropleth"
           }
          ],
          "contour": [
           {
            "colorbar": {
             "outlinewidth": 0,
             "ticks": ""
            },
            "colorscale": [
             [
              0,
              "#0d0887"
             ],
             [
              0.1111111111111111,
              "#46039f"
             ],
             [
              0.2222222222222222,
              "#7201a8"
             ],
             [
              0.3333333333333333,
              "#9c179e"
             ],
             [
              0.4444444444444444,
              "#bd3786"
             ],
             [
              0.5555555555555556,
              "#d8576b"
             ],
             [
              0.6666666666666666,
              "#ed7953"
             ],
             [
              0.7777777777777778,
              "#fb9f3a"
             ],
             [
              0.8888888888888888,
              "#fdca26"
             ],
             [
              1,
              "#f0f921"
             ]
            ],
            "type": "contour"
           }
          ],
          "contourcarpet": [
           {
            "colorbar": {
             "outlinewidth": 0,
             "ticks": ""
            },
            "type": "contourcarpet"
           }
          ],
          "heatmap": [
           {
            "colorbar": {
             "outlinewidth": 0,
             "ticks": ""
            },
            "colorscale": [
             [
              0,
              "#0d0887"
             ],
             [
              0.1111111111111111,
              "#46039f"
             ],
             [
              0.2222222222222222,
              "#7201a8"
             ],
             [
              0.3333333333333333,
              "#9c179e"
             ],
             [
              0.4444444444444444,
              "#bd3786"
             ],
             [
              0.5555555555555556,
              "#d8576b"
             ],
             [
              0.6666666666666666,
              "#ed7953"
             ],
             [
              0.7777777777777778,
              "#fb9f3a"
             ],
             [
              0.8888888888888888,
              "#fdca26"
             ],
             [
              1,
              "#f0f921"
             ]
            ],
            "type": "heatmap"
           }
          ],
          "heatmapgl": [
           {
            "colorbar": {
             "outlinewidth": 0,
             "ticks": ""
            },
            "colorscale": [
             [
              0,
              "#0d0887"
             ],
             [
              0.1111111111111111,
              "#46039f"
             ],
             [
              0.2222222222222222,
              "#7201a8"
             ],
             [
              0.3333333333333333,
              "#9c179e"
             ],
             [
              0.4444444444444444,
              "#bd3786"
             ],
             [
              0.5555555555555556,
              "#d8576b"
             ],
             [
              0.6666666666666666,
              "#ed7953"
             ],
             [
              0.7777777777777778,
              "#fb9f3a"
             ],
             [
              0.8888888888888888,
              "#fdca26"
             ],
             [
              1,
              "#f0f921"
             ]
            ],
            "type": "heatmapgl"
           }
          ],
          "histogram": [
           {
            "marker": {
             "pattern": {
              "fillmode": "overlay",
              "size": 10,
              "solidity": 0.2
             }
            },
            "type": "histogram"
           }
          ],
          "histogram2d": [
           {
            "colorbar": {
             "outlinewidth": 0,
             "ticks": ""
            },
            "colorscale": [
             [
              0,
              "#0d0887"
             ],
             [
              0.1111111111111111,
              "#46039f"
             ],
             [
              0.2222222222222222,
              "#7201a8"
             ],
             [
              0.3333333333333333,
              "#9c179e"
             ],
             [
              0.4444444444444444,
              "#bd3786"
             ],
             [
              0.5555555555555556,
              "#d8576b"
             ],
             [
              0.6666666666666666,
              "#ed7953"
             ],
             [
              0.7777777777777778,
              "#fb9f3a"
             ],
             [
              0.8888888888888888,
              "#fdca26"
             ],
             [
              1,
              "#f0f921"
             ]
            ],
            "type": "histogram2d"
           }
          ],
          "histogram2dcontour": [
           {
            "colorbar": {
             "outlinewidth": 0,
             "ticks": ""
            },
            "colorscale": [
             [
              0,
              "#0d0887"
             ],
             [
              0.1111111111111111,
              "#46039f"
             ],
             [
              0.2222222222222222,
              "#7201a8"
             ],
             [
              0.3333333333333333,
              "#9c179e"
             ],
             [
              0.4444444444444444,
              "#bd3786"
             ],
             [
              0.5555555555555556,
              "#d8576b"
             ],
             [
              0.6666666666666666,
              "#ed7953"
             ],
             [
              0.7777777777777778,
              "#fb9f3a"
             ],
             [
              0.8888888888888888,
              "#fdca26"
             ],
             [
              1,
              "#f0f921"
             ]
            ],
            "type": "histogram2dcontour"
           }
          ],
          "mesh3d": [
           {
            "colorbar": {
             "outlinewidth": 0,
             "ticks": ""
            },
            "type": "mesh3d"
           }
          ],
          "parcoords": [
           {
            "line": {
             "colorbar": {
              "outlinewidth": 0,
              "ticks": ""
             }
            },
            "type": "parcoords"
           }
          ],
          "pie": [
           {
            "automargin": true,
            "type": "pie"
           }
          ],
          "scatter": [
           {
            "fillpattern": {
             "fillmode": "overlay",
             "size": 10,
             "solidity": 0.2
            },
            "type": "scatter"
           }
          ],
          "scatter3d": [
           {
            "line": {
             "colorbar": {
              "outlinewidth": 0,
              "ticks": ""
             }
            },
            "marker": {
             "colorbar": {
              "outlinewidth": 0,
              "ticks": ""
             }
            },
            "type": "scatter3d"
           }
          ],
          "scattercarpet": [
           {
            "marker": {
             "colorbar": {
              "outlinewidth": 0,
              "ticks": ""
             }
            },
            "type": "scattercarpet"
           }
          ],
          "scattergeo": [
           {
            "marker": {
             "colorbar": {
              "outlinewidth": 0,
              "ticks": ""
             }
            },
            "type": "scattergeo"
           }
          ],
          "scattergl": [
           {
            "marker": {
             "colorbar": {
              "outlinewidth": 0,
              "ticks": ""
             }
            },
            "type": "scattergl"
           }
          ],
          "scattermapbox": [
           {
            "marker": {
             "colorbar": {
              "outlinewidth": 0,
              "ticks": ""
             }
            },
            "type": "scattermapbox"
           }
          ],
          "scatterpolar": [
           {
            "marker": {
             "colorbar": {
              "outlinewidth": 0,
              "ticks": ""
             }
            },
            "type": "scatterpolar"
           }
          ],
          "scatterpolargl": [
           {
            "marker": {
             "colorbar": {
              "outlinewidth": 0,
              "ticks": ""
             }
            },
            "type": "scatterpolargl"
           }
          ],
          "scatterternary": [
           {
            "marker": {
             "colorbar": {
              "outlinewidth": 0,
              "ticks": ""
             }
            },
            "type": "scatterternary"
           }
          ],
          "surface": [
           {
            "colorbar": {
             "outlinewidth": 0,
             "ticks": ""
            },
            "colorscale": [
             [
              0,
              "#0d0887"
             ],
             [
              0.1111111111111111,
              "#46039f"
             ],
             [
              0.2222222222222222,
              "#7201a8"
             ],
             [
              0.3333333333333333,
              "#9c179e"
             ],
             [
              0.4444444444444444,
              "#bd3786"
             ],
             [
              0.5555555555555556,
              "#d8576b"
             ],
             [
              0.6666666666666666,
              "#ed7953"
             ],
             [
              0.7777777777777778,
              "#fb9f3a"
             ],
             [
              0.8888888888888888,
              "#fdca26"
             ],
             [
              1,
              "#f0f921"
             ]
            ],
            "type": "surface"
           }
          ],
          "table": [
           {
            "cells": {
             "fill": {
              "color": "#EBF0F8"
             },
             "line": {
              "color": "white"
             }
            },
            "header": {
             "fill": {
              "color": "#C8D4E3"
             },
             "line": {
              "color": "white"
             }
            },
            "type": "table"
           }
          ]
         },
         "layout": {
          "annotationdefaults": {
           "arrowcolor": "#2a3f5f",
           "arrowhead": 0,
           "arrowwidth": 1
          },
          "autotypenumbers": "strict",
          "coloraxis": {
           "colorbar": {
            "outlinewidth": 0,
            "ticks": ""
           }
          },
          "colorscale": {
           "diverging": [
            [
             0,
             "#8e0152"
            ],
            [
             0.1,
             "#c51b7d"
            ],
            [
             0.2,
             "#de77ae"
            ],
            [
             0.3,
             "#f1b6da"
            ],
            [
             0.4,
             "#fde0ef"
            ],
            [
             0.5,
             "#f7f7f7"
            ],
            [
             0.6,
             "#e6f5d0"
            ],
            [
             0.7,
             "#b8e186"
            ],
            [
             0.8,
             "#7fbc41"
            ],
            [
             0.9,
             "#4d9221"
            ],
            [
             1,
             "#276419"
            ]
           ],
           "sequential": [
            [
             0,
             "#0d0887"
            ],
            [
             0.1111111111111111,
             "#46039f"
            ],
            [
             0.2222222222222222,
             "#7201a8"
            ],
            [
             0.3333333333333333,
             "#9c179e"
            ],
            [
             0.4444444444444444,
             "#bd3786"
            ],
            [
             0.5555555555555556,
             "#d8576b"
            ],
            [
             0.6666666666666666,
             "#ed7953"
            ],
            [
             0.7777777777777778,
             "#fb9f3a"
            ],
            [
             0.8888888888888888,
             "#fdca26"
            ],
            [
             1,
             "#f0f921"
            ]
           ],
           "sequentialminus": [
            [
             0,
             "#0d0887"
            ],
            [
             0.1111111111111111,
             "#46039f"
            ],
            [
             0.2222222222222222,
             "#7201a8"
            ],
            [
             0.3333333333333333,
             "#9c179e"
            ],
            [
             0.4444444444444444,
             "#bd3786"
            ],
            [
             0.5555555555555556,
             "#d8576b"
            ],
            [
             0.6666666666666666,
             "#ed7953"
            ],
            [
             0.7777777777777778,
             "#fb9f3a"
            ],
            [
             0.8888888888888888,
             "#fdca26"
            ],
            [
             1,
             "#f0f921"
            ]
           ]
          },
          "colorway": [
           "#636efa",
           "#EF553B",
           "#00cc96",
           "#ab63fa",
           "#FFA15A",
           "#19d3f3",
           "#FF6692",
           "#B6E880",
           "#FF97FF",
           "#FECB52"
          ],
          "font": {
           "color": "#2a3f5f"
          },
          "geo": {
           "bgcolor": "white",
           "lakecolor": "white",
           "landcolor": "#E5ECF6",
           "showlakes": true,
           "showland": true,
           "subunitcolor": "white"
          },
          "hoverlabel": {
           "align": "left"
          },
          "hovermode": "closest",
          "mapbox": {
           "style": "light"
          },
          "paper_bgcolor": "white",
          "plot_bgcolor": "#E5ECF6",
          "polar": {
           "angularaxis": {
            "gridcolor": "white",
            "linecolor": "white",
            "ticks": ""
           },
           "bgcolor": "#E5ECF6",
           "radialaxis": {
            "gridcolor": "white",
            "linecolor": "white",
            "ticks": ""
           }
          },
          "scene": {
           "xaxis": {
            "backgroundcolor": "#E5ECF6",
            "gridcolor": "white",
            "gridwidth": 2,
            "linecolor": "white",
            "showbackground": true,
            "ticks": "",
            "zerolinecolor": "white"
           },
           "yaxis": {
            "backgroundcolor": "#E5ECF6",
            "gridcolor": "white",
            "gridwidth": 2,
            "linecolor": "white",
            "showbackground": true,
            "ticks": "",
            "zerolinecolor": "white"
           },
           "zaxis": {
            "backgroundcolor": "#E5ECF6",
            "gridcolor": "white",
            "gridwidth": 2,
            "linecolor": "white",
            "showbackground": true,
            "ticks": "",
            "zerolinecolor": "white"
           }
          },
          "shapedefaults": {
           "line": {
            "color": "#2a3f5f"
           }
          },
          "ternary": {
           "aaxis": {
            "gridcolor": "white",
            "linecolor": "white",
            "ticks": ""
           },
           "baxis": {
            "gridcolor": "white",
            "linecolor": "white",
            "ticks": ""
           },
           "bgcolor": "#E5ECF6",
           "caxis": {
            "gridcolor": "white",
            "linecolor": "white",
            "ticks": ""
           }
          },
          "title": {
           "x": 0.05
          },
          "xaxis": {
           "automargin": true,
           "gridcolor": "white",
           "linecolor": "white",
           "ticks": "",
           "title": {
            "standoff": 15
           },
           "zerolinecolor": "white",
           "zerolinewidth": 2
          },
          "yaxis": {
           "automargin": true,
           "gridcolor": "white",
           "linecolor": "white",
           "ticks": "",
           "title": {
            "standoff": 15
           },
           "zerolinecolor": "white",
           "zerolinewidth": 2
          }
         }
        },
        "title": {
         "text": "Siła związku (V Craméra) dla kluczowych cech"
        },
        "xaxis": {
         "anchor": "y",
         "domain": [
          0,
          1
         ],
         "title": {
          "text": "Cecha"
         }
        },
        "yaxis": {
         "anchor": "x",
         "domain": [
          0,
          1
         ],
         "title": {
          "text": "V Craméra"
         }
        }
       }
      }
     },
     "metadata": {},
     "output_type": "display_data"
    }
   ],
   "source": [
    "# Dodanie inżynierii cech dla 'important_driver_distance'\n",
    "distance_dummies = pd.get_dummies(data['driver_distance_banding'], prefix='driver_distance_banding')\n",
    "if 'driver_distance_banding_3.0' in distance_dummies.columns and 'driver_distance_banding_4.0' in distance_dummies.columns:\n",
    "    data['important_driver_distance'] = (distance_dummies['driver_distance_banding_3.0'] + distance_dummies['driver_distance_banding_4.0'] > 0).astype(int)\n",
    "else:\n",
    "    print(\"Brak kolumn 'driver_distance_banding_3.0' lub 'driver_distance_banding_4.0'. Ustawiam 'important_driver_distance' na NaN.\")\n",
    "    data['important_driver_distance'] = np.nan\n",
    "\n",
    "# Lista kluczowych zmiennych\n",
    "key_features = [\n",
    "    'is_urban_driver', 'road_type', 'junction_control', 'junction_detail',\n",
    "    'important_driver_distance', 'light_conditions', 'casualty_type', 'skidding_and_overturning'\n",
    "]\n",
    "\n",
    "# Opis zmiennych dla czytelności\n",
    "variable_names = {\n",
    "    'is_urban_driver': 'Pochodzenie kierowcy',\n",
    "    'road_type': 'Typ drogi',\n",
    "    'junction_control': 'Kontrola skrzyżowania',\n",
    "    'junction_detail': 'Szczegóły skrzyżowania',\n",
    "    'important_driver_distance': 'Odległość od miejsca zamieszkania',\n",
    "    'light_conditions': 'Warunki oświetleniowe',\n",
    "    'casualty_type': 'Typ poszkodowanego',\n",
    "    'skidding_and_overturning': 'Poślizg i wywrócenie'\n",
    "}\n",
    "\n",
    "# Przeprowadzenie testów chi-kwadrat i zapis wyników\n",
    "results = []\n",
    "contingency_tables = {}\n",
    "\n",
    "for feature in key_features:\n",
    "    if feature == 'important_driver_distance' and (feature not in data.columns or data[feature].isna().all()):\n",
    "        print(f\"Kolumna '{feature}' nie jest dostępna lub zawiera tylko NaN. Test pominięty.\")\n",
    "        results.append({\n",
    "            'Zmienna': feature,\n",
    "            'Statystyka χ²': np.nan,\n",
    "            'p-value': np.nan,\n",
    "            'V Craméra': np.nan,\n",
    "            'Siła związku': 'N/A'\n",
    "        })\n",
    "        continue\n",
    "\n",
    "    # Filtrowanie danych dla wybranych kategorii\n",
    "    if feature == 'road_type':\n",
    "        filtered_data = data['road_type'].where(data['road_type'].isin([3, 6]), 99)\n",
    "    elif feature == 'junction_control':\n",
    "        filtered_data = data['junction_control'].where(data['junction_control'].isin([4, 2]), 9)\n",
    "    elif feature == 'junction_detail':\n",
    "        filtered_data = data['junction_detail'].where(data['junction_detail'] == 1, 99)\n",
    "    elif feature == 'light_conditions':\n",
    "        filtered_data = data['light_conditions'].where(data['light_conditions'] == 6, 99)\n",
    "    elif feature == 'casualty_type':\n",
    "        filtered_data = data['casualty_type'].where(data['casualty_type'] == 9, 99)\n",
    "    else:\n",
    "        filtered_data = data[feature]\n",
    "\n",
    "    # Tworzenie tabeli kontyngencji\n",
    "    contingency = pd.crosstab(filtered_data, data['is_rural_accident'])\n",
    "    contingency_tables[feature] = contingency\n",
    "\n",
    "    # Test chi-kwadrat\n",
    "    chi2, p, _, _ = chi2_contingency(contingency)\n",
    "    n = contingency.sum().sum()\n",
    "    cramer_v = np.sqrt(chi2 / (n * (min(contingency.shape) - 1)))\n",
    "\n",
    "    # Określenie siły związku\n",
    "    if cramer_v >= 0.3:\n",
    "        strength = 'Umiarkowany'\n",
    "    elif cramer_v >= 0.1:\n",
    "        strength = 'Umiarkowany'\n",
    "    else:\n",
    "        strength = 'Słaby'\n",
    "\n",
    "    results.append({\n",
    "        'Zmienna': feature,\n",
    "        'Statystyka χ²': chi2,\n",
    "        'p-value': p,\n",
    "        'V Craméra': cramer_v,\n",
    "        'Siła związku': strength\n",
    "    })\n",
    "\n",
    "# Tworzenie DataFrame z wynikami i sortowanie według V Craméra\n",
    "summary_df = pd.DataFrame(results)\n",
    "summary_df['Zmienna'] = summary_df['Zmienna'].map(lambda x: f\"`{x}` ({variable_names[x]})\")\n",
    "summary_df = summary_df.sort_values(by='V Craméra', ascending=False)\n",
    "\n",
    "# Formatowanie kolumn przed wyświetleniem\n",
    "summary_df['Statystyka χ²'] = summary_df['Statystyka χ²'].apply(lambda x: f'{x:.1f}' if not np.isnan(x) else 'N/A')\n",
    "summary_df['p-value'] = summary_df['p-value'].apply(lambda x: f'{x:.3e}' if not np.isnan(x) else 'N/A')\n",
    "summary_df['V Craméra'] = summary_df['V Craméra'].apply(lambda x: f'{x:.3f}' if not np.isnan(x) else 'N/A')\n",
    "\n",
    "# Wyświetlanie tytułu i opisu\n",
    "print(\"=\"*50)\n",
    "print(\"Analiza Związku Kluczowych Cech z Lokalizacją Wypadku (Test Chi-kwadrat)\")\n",
    "print(\"=\"*50)\n",
    "print(\"\"\"\n",
    "W tej sekcji analizujemy statystyczny związek między kluczowymi cechami a zmienną `is_rural_accident` (lokalizacją wypadku - teren miejski vs. wiejski) przy użyciu testu chi-kwadrat. Siła powiązań mierzona jest współczynnikiem V Craméra.\n",
    "\"\"\")\n",
    "\n",
    "# Wyświetlanie tabeli podsumowującej\n",
    "print(\"\\nTabela 1: Podsumowanie wyników testów chi-kwadrat\")\n",
    "print(summary_df.to_markdown(index=False, tablefmt='grid'))\n",
    "print(\"\"\"\n",
    "**Wniosek:** Wszystkie zmienne wykazują statystycznie istotny związek z `is_rural_accident` (p < 0.05). Najsilniejszy związek obserwujemy dla `is_urban_driver` (Pochodzenie kierowcy), co zgadza się z jego wysoką ważnością w modelowaniu. Słabsze związki dla `junction_detail` (Szczegóły skrzyżowania) i `road_type` (Typ drogi) potwierdzają ich mniejszy wpływ.\n",
    "\"\"\")\n",
    "\n",
    "# Szczegółowe wyniki testów chi-kwadrat\n",
    "print(\"\\nSzczegółowe wyniki testów chi-kwadrat\")\n",
    "print(\"Poniżej przedstawiono tabele kontyngencji i wyniki testów chi-kwadrat dla każdej zmiennej.\")\n",
    "\n",
    "for idx, row in summary_df.iterrows():\n",
    "    variable = row['Zmienna'].split('`')[1]\n",
    "    print(f\"\\n{idx+1}. Test chi-kwadrat: {row['Zmienna']} vs `is_rural_accident`\")\n",
    "    print(\"Tabela kontyngencji (obserwowane częstości):\")\n",
    "    print(contingency_tables[variable].to_markdown(index=True, tablefmt='grid'))\n",
    "    print(f\"\"\"\n",
    "Wyniki testu statystycznego:\n",
    "- Statystyka chi-kwadrat (χ²): {row['Statystyka χ²']}\n",
    "- Wartość p (p-value): {row['p-value']}\n",
    "- V Craméra: {row['V Craméra']} ({row['Siła związku']} związek)\n",
    "- Wniosek (α = 0.05): Odrzucamy hipotezę zerową (H₀). Istnieje statystycznie istotny związek (p < 0.0001).\n",
    "\"\"\")\n",
    "\n",
    "# Wykres interaktywny V Craméra (na końcu)\n",
    "print(\"\\nWykres 1: Siła związku V Craméra (interaktywny)\")\n",
    "# Konwersja 'V Craméra' z powrotem na wartości numeryczne dla wykresu\n",
    "summary_df['V Craméra (num)'] = summary_df['V Craméra'].apply(lambda x: float(x) if x != 'N/A' else np.nan)\n",
    "\n",
    "fig = px.bar(summary_df,\n",
    "             x='Zmienna',\n",
    "             y='V Craméra (num)',\n",
    "             color='Siła związku',\n",
    "             title='Siła związku (V Craméra) dla kluczowych cech',\n",
    "             labels={'V Craméra (num)': 'V Craméra', 'Zmienna': 'Cecha'},\n",
    "             color_discrete_map={'Umiarkowany': '#1f77b4', 'Słaby': '#ff7f0e'},\n",
    "             text='V Craméra')\n",
    "fig.update_traces(texttemplate='%{text:.3f}', textposition='outside')\n",
    "fig.update_layout(\n",
    "    yaxis_title='V Craméra',\n",
    "    xaxis_title='Cecha',\n",
    "    legend_title_text='Siła związku',\n",
    "    shapes=[\n",
    "        dict(type=\"line\", x0=-0.5, x1=len(summary_df)-0.5, y0=0.1, y1=0.1,\n",
    "             line=dict(color=\"orange\", width=2, dash=\"dash\")),\n",
    "        dict(type=\"line\", x0=-0.5, x1=len(summary_df)-0.5, y0=0.3, y1=0.3,\n",
    "             line=dict(color=\"blue\", width=2, dash=\"dash\")),\n",
    "        dict(type=\"line\", x0=-0.5, x1=len(summary_df)-0.5, y0=0.5, y1=0.5,\n",
    "             line=dict(color=\"red\", width=2, dash=\"dash\"))\n",
    "    ]\n",
    ")\n",
    "fig.show()"
   ]
  },
  {
   "cell_type": "markdown",
   "metadata": {},
   "source": [
    "### Podsumowanie wyników testów chi-kwadrat\n",
    "\n",
    "- Wszystkie analizowane cechy wykazują **statystycznie istotny związek** z lokalizacją wypadku `is_rural_accident` (p < 0.001), co potwierdza odrzucenie hipotezy zerowej (H₀) i wspiera wyniki modelowania XGBoost.\n",
    "- Najsilniejszy wpływ na lokalizację wypadku ma `is_urban_driver` (pochodzenie kierowcy) (V = 0.394), co potwierdza jego wysoką ważność w modelu XGBoost (3. miejsce), natomiast umiarkowany związek wykazują `light_conditions` (warunki oświetleniowe) (V = 0.223) i `driver_journey_purpose` (odległość od miejsca zamieszkania) (V = 0.220), a także `junction_control` (kontrola skrzyżowania) (V = 0.183), `casualty_type` (typ poszkodowanego) (V = 0.177) oraz `skidding_and_overturning` (poślizg i wywrócenie) (V = 0.161), przy czym `junction_detail` (szczegóły skrzyżowania) (V = 0.099) i `road_type` (typ drogi) (V = 0.036) mają słabszy, ale nadal istotny związek, co odpowiada ich niższej, choć zauważalnej ważności w modelu.\n",
    "- Umiarkowana siła związku dla większości cech (V = 0.161–0.394) wskazuje, że analizowane zmienne są istotne, ale inne czynniki (np. `speed_limit_normalized`, interakcje cech) mogą dodatkowo wpływać na wyniki, jak sugeruje analiza ważności cech XGBoost.\n",
    "- Słaby związek dla `junction_detail` (szczegóły skrzyżowania) i `road_type` (typ drogi) sugeruje, że te cechy mogą być mniej uniwersalne lub wymagać bardziej szczegółowych kategorii w przyszłych analizach.\n",
    "\n",
    "**Wiarygodność wyników:**\n",
    "- Duża próba (N = 273,053) zapewnia wysoką wiarygodność wyników testów chi-kwadrat, co jest zgodne z wysoką skutecznością modelu XGBoost (AUC-ROC = 0.9400)."
   ]
  },
  {
   "cell_type": "code",
   "execution_count": 13,
   "metadata": {},
   "outputs": [
    {
     "data": {
      "image/png": "[encoded data removed]",
      "text/plain": [
       "<Figure size 1000x600 with 1 Axes>"
      ]
     },
     "metadata": {},
     "output_type": "display_data"
    },
    {
     "name": "stdout",
     "output_type": "stream",
     "text": [
      "\n",
      "AUC-ROC XGBoost (testowy): 0.9400\n"
     ]
    },
    {
     "data": {
      "image/png": "[encoded data removed]",
      "text/plain": [
       "<Figure size 1200x800 with 1 Axes>"
      ]
     },
     "metadata": {},
     "output_type": "display_data"
    },
    {
     "name": "stdout",
     "output_type": "stream",
     "text": [
      "\n",
      "Rozmiary zbioru treningowego (XGBoost): [ 18271  36542  54813  73084  91355 109626 127897 146168 164439 182710]\n",
      "Średni F1-score XGBoost (trening): [       nan 0.85596769 0.84882457 0.84334605 0.83608956 0.83447398\n",
      " 0.84805978 0.87375429 0.90109748 0.91796358]\n",
      "Średni F1-score XGBoost (walidacja): [       nan 0.80674855 0.82824203 0.8356456  0.83552517 0.83828277\n",
      " 0.84275766 0.88375834 0.89837232 0.90064811]\n"
     ]
    }
   ],
   "source": [
    "# === Krzywa ROC i AUC dla XGBoost ===\n",
    "plt.figure(figsize=(10, 6))\n",
    "\n",
    "# ROC dla XGBoost (zbiór testowy)\n",
    "fpr_xgb, tpr_xgb, _ = roc_curve(y_test, xgb_model.predict_proba(X_test)[:, 1])\n",
    "auc_xgb = roc_auc_score(y_test, xgb_model.predict_proba(X_test)[:, 1])\n",
    "plt.plot(fpr_xgb, tpr_xgb, label=f'XGBoost (AUC = {auc_xgb:.4f})', color='blue')\n",
    "\n",
    "# Linia bazowa (losowy klasyfikator)\n",
    "plt.plot([0, 1], [0, 1], 'k--', label='Losowy klasyfikator (AUC = 0.5)')\n",
    "\n",
    "plt.xlabel('False Positive Rate (FPR)')\n",
    "plt.ylabel('True Positive Rate (TPR)')\n",
    "plt.title('Krzywa ROC (zbiór testowy)')\n",
    "plt.legend(loc='best')\n",
    "plt.grid()\n",
    "plt.show()\n",
    "\n",
    "# Wyświetlenie wyników AUC dla XGBoost\n",
    "print(f\"\\nAUC-ROC XGBoost (testowy): {auc_xgb:.4f}\")\n",
    "\n",
    "############################################################\n",
    "# Krzywa uczenia dla XGBoost\n",
    "plt.figure(figsize=(12, 8))\n",
    "\n",
    "# XGBoost\n",
    "train_sizes_xgb, train_scores_xgb, val_scores_xgb = learning_curve(\n",
    "    estimator=xgb_model, X=X_train, y=y_train, train_sizes=np.linspace(0.1, 1.0, 10),\n",
    "    cv=5, scoring='f1', n_jobs=-1, random_state=42\n",
    ")\n",
    "train_scores_mean_xgb = np.mean(train_scores_xgb, axis=1)\n",
    "train_scores_std_xgb = np.std(train_scores_xgb, axis=1)\n",
    "val_scores_mean_xgb = np.mean(val_scores_xgb, axis=1)\n",
    "val_scores_std_xgb = np.std(val_scores_xgb, axis=1)\n",
    "\n",
    "plt.plot(train_sizes_xgb, train_scores_mean_xgb, label='F1-score XGBoost (trening)', color='blue')\n",
    "plt.fill_between(train_sizes_xgb, train_scores_mean_xgb - train_scores_std_xgb, train_scores_mean_xgb + train_scores_std_xgb, alpha=0.1, color='blue')\n",
    "plt.plot(train_sizes_xgb, val_scores_mean_xgb, label='F1-score XGBoost (walidacja)', color='cyan')\n",
    "\n",
    "plt.xlabel('Rozmiar zbioru treningowego')\n",
    "plt.ylabel('F1-score')\n",
    "plt.title('Krzywa uczenia (F1-score) - XGBoost')\n",
    "plt.legend(loc='best')\n",
    "plt.grid()\n",
    "plt.show()\n",
    "\n",
    "print(\"\\nRozmiary zbioru treningowego (XGBoost):\", train_sizes_xgb)\n",
    "print(\"Średni F1-score XGBoost (trening):\", train_scores_mean_xgb)\n",
    "print(\"Średni F1-score XGBoost (walidacja):\", val_scores_mean_xgb)"
   ]
  },
  {
   "cell_type": "markdown",
   "metadata": {},
   "source": [
    "**Podsumowanie analizy Krzywej ROC i uczenia się:**\n",
    "\n",
    "- **Krzywe ROC**: Model XGBoost osiąga AUC-ROC = 0.9400 na zbiorze testowym, przewyższając Random Forest (AUC-ROC = 0.9327). Oba modele znacząco przewyższają losowy klasyfikator (AUC = 0.5), co potwierdza ich wysoką zdolność do rozróżniania wypadków wiejskich od miejskich.\n",
    "- **Krzywa uczenia (XGBoost)**: F1-score na zbiorze treningowym rośnie od 0.856 do 0.918, a na zbiorze walidacyjnym od 0.807 do 0.901 wraz ze wzrostem rozmiaru danych. Stabilizacja wyników na poziomie ~0.90 (walidacja) i ~0.92 (trening) wskazuje na dobrą generalizację modelu z minimalnym ryzykiem nadmiernego dopasowania.\n",
    "- **Porównanie modeli**: Wyższa wartość AUC-ROC dla XGBoost oraz stabilne wyniki F1-score potwierdzają jego przewagę nad Random Forest, szczególnie w predykcji wypadków wiejskich.\n",
    "- **Kontekst wcześniejszych analiz**: Wysoka skuteczność modeli jest wspierana przez statystycznie istotne cechy zidentyfikowane w testach chi-kwadrat (sekcja VI, np. V Craméra = 0.394 dla „is_urban_driver”), które odpowiadają kluczowym predyktorom w modelowaniu XGBoost (sekcja V).\n",
    "\n",
    "**Wiarygodność wyników:**\n",
    "- Duża próba danych (N = 273,053) oraz brak zastosowania SMOTE na zbiorach walidacyjnym i testowym zapewniają realistyczne odzwierciedlenie rozkładów danych, zwiększając wiarygodność wyników.\n",
    "- Wysoka wartość AUC-ROC (0.9400) i stabilność F1-score na krzywej uczenia wskazują na solidność modelu XGBoost, szczególnie w zadaniu klasyfikacji binarnej.\n",
    "- Ilustracyjny charakter krzywych ROC (oparty na przykładowych danych) nie wpływa na ogólne wnioski, które są zgodne z wysoką skutecznością modeli.\n",
    "- Spójność wyników z analizą ważności cech (sekcja V) i testami statystycznymi (sekcja VI) wzmacnia zaufanie do uzyskanych rezultatów."
   ]
  },
  {
   "cell_type": "markdown",
   "metadata": {},
   "source": [
    "### VIII. Wnioski Końcowe i Podsumowanie Analizy\n",
    "\n",
    "#### 1. Cel pracy i pytania badawcze\n",
    "Celem pracy było zbadanie związku między miejscem zamieszkania kierowcy (miejskim lub wiejskim) a prawdopodobieństwem udziału w wypadku drogowym, z naciskiem na identyfikację kluczowych czynników wpływających na przewidywanie lokalizacji wypadków na terenach wiejskich przy użyciu modeli uczenia maszynowego. Analiza opierała się na danych z brytyjskich baz wypadków drogowych z lat 2021–2023 (N = 273,053). Pytania badawcze koncentrowały się na:\n",
    "- Związku między miejscem zamieszkania kierowcy a lokalizacją wypadku.\n",
    "- Kluczowych cechach kontekstowych (np. typ drogi, warunki oświetleniowe) wpływających na wypadki wiejskie.\n",
    "- Skuteczności modeli uczenia maszynowego (XGBoost, RandomForest) w przewidywaniu lokalizacji wypadków.\n",
    "\n",
    "#### 2. Kluczowe wyniki\n",
    "##### 2.1 Związek między miejscem zamieszkania a lokalizacją wypadku\n",
    "- **Statystyczna istotność**: Test chi-kwadrat (χ² = 42,475.6, p < 0.001, V Craméra = 0.394) potwierdził umiarkowany, statystycznie istotny związek między miejscem zamieszkania kierowcy a lokalizacją wypadku. Kierowcy wiejscy częściej uczestniczą w wypadkach na terenach wiejskich (68.4%) niż miejscy (21.7%), a kierowcy miejscy dominują w wypadkach miejskich (78.3%).\n",
    "- **Obalenie hipotezy badawczej**: Hipoteza, że kierowcy miejscy są bardziej narażeni na wypadki na terenach wiejskich, została obalona. Kierowcy wiejscy wykazują wyższe prawdopodobieństwo wypadków w środowisku wiejskim, co może wynikać z większej znajomości dróg miejskich przez kierowców miejskich lub różnic w infrastrukturze drogowej.\n",
    "\n",
    "##### 2.2 Kluczowe czynniki wpływające na wypadki wiejskie\n",
    "- **Najważniejsze cechy (XGBoost)**: Analiza ważności cech w modelu XGBoost wskazała, że ograniczenie prędkości (`speed_limit_normalized`, 18.27%), interakcja prędkości i typu kierowcy (`urban_driver_speed`, 17.11%), pochodzenie kierowcy (`is_urban_driver`, 5.66%) oraz interakcja odległości i prędkości (`distance_speed_interaction`, 5.43%) mają największy wpływ na przewidywanie wypadków wiejskich. Inne istotne cechy to brak kontroli skrzyżowań, ciemność bez oświetlenia i typ drogi jednojezdniowej.\n",
    "- **Testy chi-kwadrat**: Wszystkie kluczowe cechy wykazały statystycznie istotny związek z lokalizacją wypadku (p < 0.001). Najsilniejszy związek miał `is_urban_driver` (V = 0.394), a umiarkowane powiązania dotyczyły warunków oświetleniowych (V = 0.223), odległości od miejsca zamieszkania (V = 0.220) oraz kontroli skrzyżowań (V = 0.183).\n",
    "\n",
    "##### 2.3 Skuteczność modeli uczenia maszynowego\n",
    "- **XGBoost vs. Random Forest**: Model XGBoost osiągnął wyższą skuteczność (AUC-ROC = 0.9400, F1-score dla klasy wiejskiej = 0.81 na zbiorze testowym) w porównaniu do Random Forest (AUC-ROC = 0.9327, F1-score = 0.79). XGBoost wykazał lepszy balans między precyzją a czułością oraz stabilność wyników.\n",
    "- **Krzywa uczenia się**: Krzywa uczenia dla XGBoost pokazała stabilizację F1-score na poziomie ~0.90 (walidacja) i ~0.92 (trening), wskazując na dobrą generalizację modelu z minimalnym ryzykiem nadmiernego dopasowania.\n",
    "- **Wiarygodność modeli**: Duża próba danych i realistyczny rozkład klas w zbiorach walidacyjnym i testowym (bez SMOTE) zapewniają wysoką wiarygodność wyników. Wysoka wartość AUC-ROC potwierdza zdolność modelu do rozróżniania wypadków wiejskich od miejskich.\n",
    "\n",
    "#### 3. Odpowiedzi na pytania badawcze\n",
    "1. **Czy miejsce zamieszkania kierowcy wpływa na prawdopodobieństwo udziału w wypadku drogowym?**\n",
    "   - Tak, istnieje statystycznie istotny, umiarkowany związek między miejscem zamieszkania kierowcy a lokalizacją wypadku. Kierowcy wiejscy są bardziej narażeni na wypadki na terenach wiejskich, a kierowcy miejscy na terenach miejskich.\n",
    "2. **Jakie cechy kontekstowe mają największy wpływ na wypadki wiejskie?**\n",
    "   - Kluczowe cechy to wyższe limity prędkości, brak kontroli skrzyżowań, ciemność bez oświetlenia, drogi jednojezdniowe oraz interakcje między prędkością, odległością od miejsca zamieszkania i pochodzeniem kierowcy.\n",
    "3. **Czy modele uczenia maszynowego mogą skutecznie przewidzieć lokalizację wypadku?**\n",
    "   - Tak, model XGBoost osiągnął wysoką skuteczność (AUC-ROC = 0.9400), obalając hipotezę, że modele uczenia maszynowego nie są skuteczne w tym zadaniu. Model dobrze radzi sobie z przewidywaniem wypadków wiejskich, choć precyzja dla tej klasy (0.84) wskazuje na potencjalne obszary do poprawy.\n",
    "\n",
    "#### 4. Wnioski końcowe\n",
    "- **Związek miejsca zamieszkania z wypadkami**: Miejsce zamieszkania kierowcy istotnie wpływa na lokalizację wypadków, przy czym kierowcy wiejscy są bardziej narażeni na wypadki w środowisku wiejskim, co może wynikać z różnic w infrastrukturze, nawykach jazdy lub warunkach drogowych.\n",
    "- **Kluczowe czynniki ryzyka**: Wysokie limity prędkości, brak oświetlenia, niekontrolowane skrzyżowania i drogi jednojezdniowe znacząco zwiększają ryzyko wypadków na terenach wiejskich, co powinno być uwzględnione w strategiach prewencji.\n",
    "- **Skuteczność modelowania**: Model XGBoost okazał się skutecznym narzędziem do przewidywania lokalizacji wypadków, oferując wysoką dokładność i możliwość identyfikacji kluczowych czynników ryzyka. Jego przewaga nad Random Forest oraz stabilność wyników potwierdzają przydatność uczenia maszynowego w analizie bezpieczeństwa drogowego.\n",
    "- **Praktyczne implikacje**: Wyniki sugerują potrzebę dostosowania działań prewencyjnych do specyfiki obszarów wiejskich, np. poprawy oświetlenia, kontroli skrzyżowań i edukacji kierowców miejskich podróżujących na tereny wiejskie.\n",
    "\n",
    "#### 5. Ograniczenia i rekomendacje\n",
    "- **Ograniczenia**:\n",
    "  - Umiarkowana siła związku (V Craméra = 0.394) wskazuje, że inne czynniki (np. doświadczenie kierowcy, stan pojazdu) mogą dodatkowo wpływać na wyniki.\n",
    "  - Dane ograniczone do zgłoszonych wypadków z obrażeniami (formularz STATS19) mogą nie obejmować wszystkich incydentów drogowych.\n",
    "  - Ilustracyjny charakter niektórych wizualizacji (np. krzywe ROC) w wersji statycznej wymaga ostrożności w interpretacji.\n",
    "- **Rekomendacje**:\n",
    "  - Rozszerzenie analizy o dodatkowe zmienne, takie jak doświadczenie kierowcy, typ pojazdu czy szczegółowe dane o infrastrukturze drogowej.\n",
    "  - Dalsza optymalizacja modeli (np. poprzez strojenie hiperparametrów lub zastosowanie bardziej zaawansowanych metod, takich jak sieci neuronowe).\n",
    "  - Przeprowadzenie analiz regionalnych w celu uwzględnienia lokalnych różnic w infrastrukturze i zachowaniach kierowców.\n",
    "  - Wykorzystanie wyników w kampaniach edukacyjnych i strategiach poprawy bezpieczeństwa drogowego, szczególnie na terenach wiejskich.\n",
    "\n",
    "#### 6. Podsumowanie\n",
    "Analiza potwierdziła istotny związek między miejscem zamieszkania kierowcy a lokalizacją wypadków drogowych, identyfikując kluczowe czynniki ryzyka, takie jak prędkość, oświetlenie i kontrola skrzyżowań. Model XGBoost okazał się skutecznym narzędziem predykcyjnym, oferując wysoką dokładność i cenne wskazówki dla dalszych badań oraz działań prewencyjnych. Wyniki podkreślają znaczenie dostosowania infrastruktury i edukacji kierowców do specyfiki obszarów wiejskich, aby zmniejszyć ryzyko wypadków drogowych."
   ]
  }
 ],
 "metadata": {
  "kernelspec": {
   "display_name": "base",
   "language": "python",
   "name": "python3"
  },
  "language_info": {
   "codemirror_mode": {
    "name": "ipython",
    "version": 3
   },
   "file_extension": ".py",
   "mimetype": "text/x-python",
   "name": "python",
   "nbconvert_exporter": "python",
   "pygments_lexer": "ipython3",
   "version": "3.12.7"
  }
 },
 "nbformat": 4,
 "nbformat_minor": 2
}
